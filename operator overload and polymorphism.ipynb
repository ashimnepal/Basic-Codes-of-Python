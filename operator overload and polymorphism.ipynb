{
 "cells": [
  {
   "cell_type": "code",
   "execution_count": 11,
   "id": "8209365b",
   "metadata": {},
   "outputs": [
    {
     "name": "stdout",
     "output_type": "stream",
     "text": [
      "Ram\n",
      "Ram\n"
     ]
    },
    {
     "data": {
      "text/plain": [
       "'Ram'"
      ]
     },
     "execution_count": 11,
     "metadata": {},
     "output_type": "execute_result"
    }
   ],
   "source": [
    "class info:\n",
    "    def __init__(self,name,age):\n",
    "        self.name = name\n",
    "        self.age = age\n",
    "        \n",
    "    def __str__(self):\n",
    "            return self.name\n",
    "obj = info(\"Ram\", 45)\n",
    "print(obj)\n",
    "print(obj.__str__())\n",
    "str(obj)"
   ]
  },
  {
   "cell_type": "code",
   "execution_count": 12,
   "id": "5b3a0750",
   "metadata": {},
   "outputs": [
    {
     "name": "stdout",
     "output_type": "stream",
     "text": [
      "45\n",
      "45\n"
     ]
    },
    {
     "data": {
      "text/plain": [
       "'45'"
      ]
     },
     "execution_count": 12,
     "metadata": {},
     "output_type": "execute_result"
    }
   ],
   "source": [
    "class info:\n",
    "    def __init__(self,name,age):\n",
    "        self.name = name\n",
    "        self.age = age\n",
    "        \n",
    "    def __str__(self):\n",
    "            return str(self.age)\n",
    "obj = info(\"Ram\", 45)\n",
    "print(obj)\n",
    "print(obj.__str__())\n",
    "str(obj)"
   ]
  },
  {
   "cell_type": "code",
   "execution_count": 13,
   "id": "f4d3629b",
   "metadata": {},
   "outputs": [
    {
     "name": "stdout",
     "output_type": "stream",
     "text": [
      "3 5\n"
     ]
    }
   ],
   "source": [
    "#euta class ma multiple object\n",
    "class Point:\n",
    "    def __init__(self, x = 0, y = 0 ):\n",
    "        self.x = x\n",
    "        self.y = y\n",
    "    def __str__(self):\n",
    "        return f\"{self.x} {self.y}\"\n",
    "    def __add__(self,other):\n",
    "        x = self.x + other.x\n",
    "        y = self.y + other.y\n",
    "        return Point(x,y)\n",
    "p1 = Point(1,2)\n",
    "p2 = Point(2,3)\n",
    "print(p1 + p2)"
   ]
  },
  {
   "cell_type": "code",
   "execution_count": 17,
   "id": "07a4073a",
   "metadata": {},
   "outputs": [
    {
     "name": "stdout",
     "output_type": "stream",
     "text": [
      "This is init method 12000\n",
      "This is init method 15000\n",
      "This is init method 18000\n",
      "This is add method 27000\n",
      "This is init method 27000\n",
      "This is add method 45000\n",
      "This is init method 45000\n",
      "This is str method 45000\n",
      "45000\n"
     ]
    }
   ],
   "source": [
    "#euta class ma multiple object\n",
    "class Point:\n",
    "    def __init__(self, x = 0):\n",
    "        self.x = x\n",
    "        print(\"This is init method\", self.x)\n",
    "\n",
    "    def __str__(self):\n",
    "        print(\"This is str method\", self.x)\n",
    "        return f\"{self.x}\"\n",
    "        \n",
    "    def __add__(self,other):\n",
    "        x = self.x + other.x\n",
    "        print(\"This is add method\",x)\n",
    "        return Point(x)\n",
    "    \n",
    "p1 = Point(12000)\n",
    "p2 = Point(15000)\n",
    "p3 = Point(18000)\n",
    "print(p1 + p2 + p3)"
   ]
  },
  {
   "cell_type": "code",
   "execution_count": null,
   "id": "9c392774",
   "metadata": {},
   "outputs": [],
   "source": [
    "#polymorphism"
   ]
  },
  {
   "cell_type": "code",
   "execution_count": 19,
   "id": "168d18ac",
   "metadata": {},
   "outputs": [
    {
     "name": "stdout",
     "output_type": "stream",
     "text": [
      "Parrot can't swim\n",
      "Penguine can swim\n"
     ]
    }
   ],
   "source": [
    "class Parrot:\n",
    "    def fly(self):\n",
    "        print(\"Parrot can fly\")\n",
    "    def swim(self):\n",
    "        print(\"Parrot can't swim\")\n",
    "class Penguine:\n",
    "    def fly(self):\n",
    "        print(\"Penguine can't fly\")\n",
    "    def swim(self):\n",
    "        print(\"Penguine can swim\")  \n",
    "#common interface\n",
    "def flying_test(bird):\n",
    "    bird.fly()\n",
    "#initiation of objects\n",
    "blu = Parrot()\n",
    "peggy = Penguine()\n",
    "#passing the object\n",
    "flying_test(blu)\n",
    "flying_test(peggy)\n",
    "    "
   ]
  },
  {
   "cell_type": "code",
   "execution_count": 20,
   "id": "f0fa264b",
   "metadata": {},
   "outputs": [
    {
     "name": "stdout",
     "output_type": "stream",
     "text": [
      "Parrot can't swim\n",
      "Penguine can swim\n"
     ]
    }
   ],
   "source": [
    "class Parrot:\n",
    "    def fly(self):\n",
    "        print(\"Parrot can fly\")\n",
    "    def swim(self):\n",
    "        print(\"Parrot can't swim\")\n",
    "class Penguine:\n",
    "    def fly(self):\n",
    "        print(\"Penguine can't fly\")\n",
    "    def swim(self):\n",
    "        print(\"Penguine can swim\")  \n",
    "#common interface\n",
    "def flying_test(bird):\n",
    "    bird.swim()\n",
    "#initiation of objects\n",
    "blu = Parrot()\n",
    "peggy = Penguine()\n",
    "#passing the object\n",
    "flying_test(blu)\n",
    "flying_test(peggy)\n",
    "    "
   ]
  },
  {
   "cell_type": "code",
   "execution_count": null,
   "id": "0289452d",
   "metadata": {},
   "outputs": [],
   "source": []
  }
 ],
 "metadata": {
  "kernelspec": {
   "display_name": "Python 3",
   "language": "python",
   "name": "python3"
  },
  "language_info": {
   "codemirror_mode": {
    "name": "ipython",
    "version": 3
   },
   "file_extension": ".py",
   "mimetype": "text/x-python",
   "name": "python",
   "nbconvert_exporter": "python",
   "pygments_lexer": "ipython3",
   "version": "3.8.8"
  }
 },
 "nbformat": 4,
 "nbformat_minor": 5
}

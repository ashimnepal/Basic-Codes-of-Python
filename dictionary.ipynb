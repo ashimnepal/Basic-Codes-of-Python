{
 "cells": [
  {
   "cell_type": "code",
   "execution_count": 2,
   "id": "ecd7f0ed",
   "metadata": {},
   "outputs": [],
   "source": [
    "#dict\n",
    "#-index\n",
    "#-order\n",
    "#-multiple values\n",
    "#-mutable datatype"
   ]
  },
  {
   "cell_type": "code",
   "execution_count": null,
   "id": "0fb2cbe5",
   "metadata": {},
   "outputs": [],
   "source": [
    "#d = {}\n",
    "#d = dict()\n",
    "#d = {<key>:<value>, <key>:<value>........ }"
   ]
  },
  {
   "cell_type": "code",
   "execution_count": 3,
   "id": "35a2e646",
   "metadata": {},
   "outputs": [
    {
     "name": "stdout",
     "output_type": "stream",
     "text": [
      "{'a': 'Apple', 'b': 'Ball', 'c': 'cat'}\n"
     ]
    }
   ],
   "source": [
    "d = {'a':'Apple', 'b':'Ball', 'c':'cat'}\n",
    "print(d)"
   ]
  },
  {
   "cell_type": "code",
   "execution_count": 6,
   "id": "cbcd0ed5",
   "metadata": {},
   "outputs": [
    {
     "data": {
      "text/plain": [
       "'cat'"
      ]
     },
     "execution_count": 6,
     "metadata": {},
     "output_type": "execute_result"
    }
   ],
   "source": [
    "d['c']"
   ]
  },
  {
   "cell_type": "code",
   "execution_count": 7,
   "id": "ba064661",
   "metadata": {},
   "outputs": [
    {
     "data": {
      "text/plain": [
       "3"
      ]
     },
     "execution_count": 7,
     "metadata": {},
     "output_type": "execute_result"
    }
   ],
   "source": [
    "len(d)"
   ]
  },
  {
   "cell_type": "code",
   "execution_count": 8,
   "id": "cfaac233",
   "metadata": {},
   "outputs": [
    {
     "data": {
      "text/plain": [
       "{'a': 'apple', 'b': 'Ball', 'c': 'cat'}"
      ]
     },
     "execution_count": 8,
     "metadata": {},
     "output_type": "execute_result"
    }
   ],
   "source": [
    "d = {'a':'Apple', 'b':'Ball', 'c':'cat'}\n",
    "d['a'] = \"apple\"\n",
    "d"
   ]
  },
  {
   "cell_type": "code",
   "execution_count": 9,
   "id": "4e0056de",
   "metadata": {},
   "outputs": [
    {
     "data": {
      "text/plain": [
       "{'a': 'Apple', 'b': 'Ball', 'c': 'cat', 'd': 'never'}"
      ]
     },
     "execution_count": 9,
     "metadata": {},
     "output_type": "execute_result"
    }
   ],
   "source": [
    "d = {'a':'Apple', 'b':'Ball', 'c':'cat'}\n",
    "d['d'] = \"never\"\n",
    "d"
   ]
  },
  {
   "cell_type": "code",
   "execution_count": 11,
   "id": "809afdb4",
   "metadata": {},
   "outputs": [
    {
     "data": {
      "text/plain": [
       "{'a': 'Gnt', 'b': 'cnt', 'c': 'Bnt', 'd': 'Dnt'}"
      ]
     },
     "execution_count": 11,
     "metadata": {},
     "output_type": "execute_result"
    }
   ],
   "source": [
    "d = {}\n",
    "d['a'] = \"Gnt\"\n",
    "d['b'] = \"cnt\"\n",
    "d['c'] = \"Bnt\"\n",
    "d['d'] = \"Dnt\"\n",
    "d"
   ]
  },
  {
   "cell_type": "code",
   "execution_count": 12,
   "id": "86afd44a",
   "metadata": {},
   "outputs": [
    {
     "name": "stdout",
     "output_type": "stream",
     "text": [
      "Enter the n = 2\n",
      "Enter name = jpt\n",
      "Enter the age = 21\n",
      "Enter name = jkp\n",
      "Enter the age = 12\n",
      "{'jpt': 21, 'jkp': 12}\n"
     ]
    }
   ],
   "source": [
    "d = {}\n",
    "n = int(input(\"Enter the n = \"))\n",
    "for i in range(n):\n",
    "    name = input(\"Enter name = \")\n",
    "    phone = int(input(\"Enter the phone = \"))\n",
    "    d[name] = phone\n",
    "print(d)\n",
    "    "
   ]
  },
  {
   "cell_type": "code",
   "execution_count": 13,
   "id": "a148287f",
   "metadata": {},
   "outputs": [
    {
     "name": "stdout",
     "output_type": "stream",
     "text": [
      "jpt\n",
      "jkp\n"
     ]
    }
   ],
   "source": [
    "for i in d:\n",
    "    print(i)"
   ]
  },
  {
   "cell_type": "code",
   "execution_count": 14,
   "id": "17c01556",
   "metadata": {},
   "outputs": [
    {
     "name": "stdout",
     "output_type": "stream",
     "text": [
      "21\n",
      "12\n"
     ]
    }
   ],
   "source": [
    "for i in d.values():\n",
    "    print(i)"
   ]
  },
  {
   "cell_type": "code",
   "execution_count": 15,
   "id": "8d41c9a2",
   "metadata": {},
   "outputs": [
    {
     "name": "stdout",
     "output_type": "stream",
     "text": [
      "('jpt', 21)\n",
      "('jkp', 12)\n"
     ]
    }
   ],
   "source": [
    "for i in d.items():\n",
    "    print(i)"
   ]
  },
  {
   "cell_type": "code",
   "execution_count": 20,
   "id": "3138fa89",
   "metadata": {},
   "outputs": [
    {
     "data": {
      "text/plain": [
       "[('a', 'Apple'), ('b', 'Ball'), ('c', 'cat')]"
      ]
     },
     "execution_count": 20,
     "metadata": {},
     "output_type": "execute_result"
    }
   ],
   "source": [
    "x = []\n",
    "d = {'a':'Apple', 'b':'Ball', 'c':'cat'}\n",
    "for i in d.items():\n",
    "    x.append(i)\n",
    "x\n",
    "    "
   ]
  },
  {
   "cell_type": "code",
   "execution_count": 21,
   "id": "55c6002f",
   "metadata": {},
   "outputs": [
    {
     "data": {
      "text/plain": [
       "{'a': 'Apple', 'b': 'Ball', 'c': 'cat', 'Hari': '9808154696'}"
      ]
     },
     "execution_count": 21,
     "metadata": {},
     "output_type": "execute_result"
    }
   ],
   "source": [
    "d = {'a':'Apple', 'b':'Ball', 'c':'cat'}\n",
    "c = {'Hari':'9808154696'}\n",
    "d.update(c)\n",
    "d"
   ]
  },
  {
   "cell_type": "code",
   "execution_count": null,
   "id": "8645f4e5",
   "metadata": {},
   "outputs": [],
   "source": [
    "d = {('Ram','Shyam'): '9852072', 'i':'95785968412'}\n",
    "c = [{'Hari','Shyam'}]\n"
   ]
  },
  {
   "cell_type": "code",
   "execution_count": 26,
   "id": "1978e490",
   "metadata": {},
   "outputs": [
    {
     "name": "stdout",
     "output_type": "stream",
     "text": [
      "{'b': 'Ball', 'c': 'cat'}\n"
     ]
    }
   ],
   "source": [
    "#del\n",
    "d = {'a':'Apple', 'b':'Ball', 'c':'cat'}\n",
    "del d['a']\n",
    "print(d)"
   ]
  },
  {
   "cell_type": "code",
   "execution_count": 29,
   "id": "d39a04fc",
   "metadata": {},
   "outputs": [
    {
     "name": "stdout",
     "output_type": "stream",
     "text": [
      "{'b': 'Ball', 'c': 'cat'}\n"
     ]
    }
   ],
   "source": [
    "d = {'a':'Apple', 'b':'Ball', 'c':'cat'}\n",
    "d.pop('a')\n",
    "print(d)"
   ]
  },
  {
   "cell_type": "code",
   "execution_count": 39,
   "id": "a8bd2d12",
   "metadata": {},
   "outputs": [
    {
     "data": {
      "text/plain": [
       "{}"
      ]
     },
     "execution_count": 39,
     "metadata": {},
     "output_type": "execute_result"
    }
   ],
   "source": [
    "d = {'a':'Apple', 'b':'Ball', 'c':'cat'}\n",
    "d.clear()\n",
    "d"
   ]
  },
  {
   "cell_type": "code",
   "execution_count": 40,
   "id": "2d2a97d7",
   "metadata": {},
   "outputs": [
    {
     "name": "stdout",
     "output_type": "stream",
     "text": [
      "{'a': [5148636985455, 5896214896248], 'b': [82684841, 415418452], 'c': [963852741, 17258369]}\n"
     ]
    }
   ],
   "source": [
    "#list_inside_dictionary\n",
    "d = {'a':[5148636985455,5896214896248], 'b':[82684841,415418452], 'c':[963852741,17258369]}\n",
    "print(d)\n"
   ]
  },
  {
   "cell_type": "code",
   "execution_count": 43,
   "id": "4f0a7bc7",
   "metadata": {},
   "outputs": [
    {
     "name": "stdout",
     "output_type": "stream",
     "text": [
      "[5148636985455, 5896214896248]\n",
      "5148636985455\n"
     ]
    }
   ],
   "source": [
    "print(d['a'])\n",
    "print(d['a'][0])\n"
   ]
  },
  {
   "cell_type": "code",
   "execution_count": 44,
   "id": "28ef6743",
   "metadata": {},
   "outputs": [
    {
     "name": "stdout",
     "output_type": "stream",
     "text": [
      "Enter n =1\n",
      "Enter name = jpt creation\n",
      "Enter ntc_number = 9818525256\n",
      "Enter ntc_number = 9808190557\n"
     ]
    },
    {
     "data": {
      "text/plain": [
       "{'jpt creation': [9818525256, 9808190557]}"
      ]
     },
     "execution_count": 44,
     "metadata": {},
     "output_type": "execute_result"
    }
   ],
   "source": [
    "d = {}\n",
    "n = int(input(\"Enter n =\"))\n",
    "for i in range(n):\n",
    "    name = input(\"Enter name = \")\n",
    "    ntc_phone = int(input(\"Enter ntc_number = \"))\n",
    "    ncell_phone = int(input(\"Enter ntc_number = \"))\n",
    "    d[name] = [ntc_phone,ncell_phone] #this means the d[name] is the key and the phone numbers are the values\n",
    "d\n",
    "    "
   ]
  },
  {
   "cell_type": "code",
   "execution_count": 45,
   "id": "9e4338bc",
   "metadata": {},
   "outputs": [
    {
     "data": {
      "text/plain": [
       "{'a': [5148636985455, 5896214896248],\n",
       " 'b': [82684841, 415418452],\n",
       " 'c': [963852741, 17258369]}"
      ]
     },
     "execution_count": 45,
     "metadata": {},
     "output_type": "execute_result"
    }
   ],
   "source": [
    "d = {'a':[5148636985455,5896214896248], 'b':[82684841,415418452], 'c':[963852741,17258369]}\n",
    "d['Hari']:[898589559,5845848484]\n",
    "d"
   ]
  },
  {
   "cell_type": "code",
   "execution_count": 46,
   "id": "1a4be376",
   "metadata": {},
   "outputs": [
    {
     "data": {
      "text/plain": [
       "5148636985455"
      ]
     },
     "execution_count": 46,
     "metadata": {},
     "output_type": "execute_result"
    }
   ],
   "source": [
    "d = {'a':[5148636985455,5896214896248], 'b':[82684841,415418452], 'c':[963852741,17258369]}\n",
    "d['a'][0]"
   ]
  },
  {
   "cell_type": "code",
   "execution_count": 47,
   "id": "2341f18b",
   "metadata": {},
   "outputs": [
    {
     "data": {
      "text/plain": [
       "{'a': [852852852852, 5896214896248],\n",
       " 'b': [82684841, 415418452],\n",
       " 'c': [963852741, 17258369]}"
      ]
     },
     "execution_count": 47,
     "metadata": {},
     "output_type": "execute_result"
    }
   ],
   "source": [
    "d = {'a':[5148636985455,5896214896248], 'b':[82684841,415418452], 'c':[963852741,17258369]}\n",
    "d['a'][0] = 852852852852\n",
    "d"
   ]
  },
  {
   "cell_type": "code",
   "execution_count": 48,
   "id": "c856960f",
   "metadata": {},
   "outputs": [
    {
     "data": {
      "text/plain": [
       "{'a': [5148636985455, 5896214896248, 74741741741741741],\n",
       " 'b': [82684841, 415418452],\n",
       " 'c': [963852741, 17258369]}"
      ]
     },
     "execution_count": 48,
     "metadata": {},
     "output_type": "execute_result"
    }
   ],
   "source": [
    "d = {'a':[5148636985455,5896214896248], 'b':[82684841,415418452], 'c':[963852741,17258369]}\n",
    "d['a'].append(74741741741741741)\n",
    "d"
   ]
  },
  {
   "cell_type": "code",
   "execution_count": 56,
   "id": "84fedd43",
   "metadata": {},
   "outputs": [
    {
     "name": "stdout",
     "output_type": "stream",
     "text": [
      "Enter the value of n = 1\n",
      "Enter the name = ashim\n",
      "Enter the age = 21\n",
      "Enter the address = gatthaghar\n"
     ]
    },
    {
     "data": {
      "text/plain": [
       "{'name': 'ashim', 'age': 21, 'address': 'gatthaghar'}"
      ]
     },
     "execution_count": 56,
     "metadata": {},
     "output_type": "execute_result"
    }
   ],
   "source": [
    "name = []\n",
    "age = []\n",
    "address = []\n",
    "n = int(input(\"Enter the value of n = \"))\n",
    "for i in range(n):\n",
    "    nm = input(\"Enter the name = \")\n",
    "    ae = int(input(\"Enter the age = \"))\n",
    "    ads = input(\"Enter the address = \")\n",
    "    name.append(nm)\n",
    "    age.append(ae)\n",
    "    address.append(ads)\n",
    "a = {'name': nm, 'age': ae, 'address': ads}\n",
    "a\n",
    "    "
   ]
  },
  {
   "cell_type": "code",
   "execution_count": 2,
   "id": "7b52ad9b",
   "metadata": {},
   "outputs": [
    {
     "data": {
      "text/plain": [
       "[{'name': 'Ashim', 'age': 34, 'address': 'kathmandu'},\n",
       " {'name': 'Ash', 'age': 24, 'address': 'bkt'},\n",
       " {'name': 'Ashton', 'age': 14, 'address': 'lal'},\n",
       " {'name': 'Ashi', 'age': 21, 'address': 'kav'}]"
      ]
     },
     "execution_count": 2,
     "metadata": {},
     "output_type": "execute_result"
    }
   ],
   "source": [
    "#dictionary_inside_list\n",
    "l = [{'name':'Ashim', 'age':34, 'address': 'kathmandu'},\n",
    "    {'name':'Ash', 'age':24, 'address': 'bkt'},\n",
    "    {'name':'Ashton', 'age':14, 'address': 'lal'},\n",
    "    {'name':'Ashi', 'age':21, 'address': 'kav'}]\n",
    "l"
   ]
  },
  {
   "cell_type": "code",
   "execution_count": 3,
   "id": "68f6adc5",
   "metadata": {},
   "outputs": [
    {
     "name": "stdout",
     "output_type": "stream",
     "text": [
      "Enter the n = 1\n",
      "Enter the name = ashim\n",
      "Enter the age = 21\n",
      "Enter any address = kathmandu\n",
      "[{'name': 'ashim', 'age': 21, 'add': 'kathmandu'}]\n"
     ]
    }
   ],
   "source": [
    "data = []\n",
    "n = int(input(\"Enter the n = \"))\n",
    "for i in range(n):\n",
    "    name = input(\"Enter the name = \")\n",
    "    age = int(input(\"Enter the age = \"))\n",
    "    add = input(\"Enter any address = \")\n",
    "    info = {'name': name, 'age': age, 'add': add}\n",
    "    data.append(info)\n",
    "print(data)"
   ]
  },
  {
   "cell_type": "code",
   "execution_count": 6,
   "id": "0a68bb72",
   "metadata": {},
   "outputs": [
    {
     "data": {
      "text/plain": [
       "[{'name': 'Ashim', 'age': 34, 'address': 'kathmandu'},\n",
       " {'name': 'Ash', 'age': 24, 'address': 'bkt'},\n",
       " {'name': 'Ashton', 'age': 14, 'address': 'lal'}]"
      ]
     },
     "execution_count": 6,
     "metadata": {},
     "output_type": "execute_result"
    }
   ],
   "source": [
    "data = [{'name':'Ashim', 'age':34, 'address': 'kathmandu'},\n",
    "    {'name':'Ash', 'age':24, 'address': 'bkt'}]\n",
    "data.append({'name':'Ashton', 'age':14, 'address': 'lal'})\n",
    "data"
   ]
  },
  {
   "cell_type": "code",
   "execution_count": 9,
   "id": "8e741dcf",
   "metadata": {},
   "outputs": [
    {
     "name": "stdout",
     "output_type": "stream",
     "text": [
      "Ashim\n"
     ]
    }
   ],
   "source": [
    "print(data[0]['name'])"
   ]
  },
  {
   "cell_type": "code",
   "execution_count": 11,
   "id": "1508ac3a",
   "metadata": {},
   "outputs": [
    {
     "data": {
      "text/plain": [
       "[{'name': 'Ramesh', 'age': 34, 'address': 'kathmandu'},\n",
       " {'name': 'Ash', 'age': 24, 'address': 'bkt'},\n",
       " {'name': 'Ashton', 'age': 14, 'address': 'lal'}]"
      ]
     },
     "execution_count": 11,
     "metadata": {},
     "output_type": "execute_result"
    }
   ],
   "source": [
    "data[0]['name'] = 'Ramesh'\n",
    "data"
   ]
  },
  {
   "cell_type": "code",
   "execution_count": 12,
   "id": "40b73d78",
   "metadata": {},
   "outputs": [
    {
     "data": {
      "text/plain": [
       "[{'age': 34, 'address': 'kathmandu'},\n",
       " {'name': 'Ash', 'age': 24, 'address': 'bkt'},\n",
       " {'name': 'Ashton', 'age': 14, 'address': 'lal'}]"
      ]
     },
     "execution_count": 12,
     "metadata": {},
     "output_type": "execute_result"
    }
   ],
   "source": [
    "del data[0]['name']\n",
    "data"
   ]
  },
  {
   "cell_type": "code",
   "execution_count": 19,
   "id": "1df76411",
   "metadata": {},
   "outputs": [
    {
     "data": {
      "text/plain": [
       "{1: {'name': 'Ashim', 'age': 32, 'add': 'Kathmandu'},\n",
       " 2: {'name': 'Asm', 'age': 3, 'add': 'Kath'},\n",
       " 3: {'name': 'Asim', 'age': 22, 'add': 'Kahmandu'}}"
      ]
     },
     "execution_count": 19,
     "metadata": {},
     "output_type": "execute_result"
    }
   ],
   "source": [
    "#nested_dictionary\n",
    "#dictionary inside dictionary\n",
    "a = {1: {'name':'Ashim', 'age':32, 'add':'Kathmandu'},\n",
    "     2: {'name':'Asm', 'age':3, 'add':'Kath'},\n",
    "     3: {'name':'Asim', 'age':22, 'add':'Kahmandu'}}\n",
    "a"
   ]
  },
  {
   "cell_type": "code",
   "execution_count": 21,
   "id": "907eb7b1",
   "metadata": {},
   "outputs": [
    {
     "name": "stdout",
     "output_type": "stream",
     "text": [
      "Enter the n = 1\n",
      "Enter the name = Ashim\n",
      "Enter the age = 21\n",
      "Enter any address = kathamandu\n",
      "{1: {'name': 'Ashim', 'age': 21, 'add': 'kathamandu'}}\n"
     ]
    }
   ],
   "source": [
    "d = {}\n",
    "n = int(input(\"Enter the n = \"))\n",
    "for i in range(1,n+1):\n",
    "    name = input(\"Enter the name = \")\n",
    "    age = int(input(\"Enter the age = \"))\n",
    "    add = input(\"Enter any address = \")\n",
    "    info = {'name': name, 'age': age, 'add': add}\n",
    "    d[i] = info\n",
    "print(d)"
   ]
  },
  {
   "cell_type": "code",
   "execution_count": 23,
   "id": "afb8b6bb",
   "metadata": {},
   "outputs": [
    {
     "data": {
      "text/plain": [
       "{1: {'name': 'Ashim', 'age': 32, 'add': 'Kathmandu'},\n",
       " 2: {'name': 'Asm', 'age': 3, 'add': 'Kath'},\n",
       " 3: {'name': 'Asim', 'age': 22, 'add': 'Kahmandu'}}"
      ]
     },
     "execution_count": 23,
     "metadata": {},
     "output_type": "execute_result"
    }
   ],
   "source": [
    "a = {1: {'name':'Ashim', 'age':32, 'add':'Kathmandu'},\n",
    "     2: {'name':'Asm', 'age':3, 'add':'Kath'}}\n",
    "a[3] =  {'name':'Asim', 'age':22, 'add':'Kahmandu'}\n",
    "a"
   ]
  },
  {
   "cell_type": "code",
   "execution_count": 24,
   "id": "35a8685b",
   "metadata": {},
   "outputs": [
    {
     "data": {
      "text/plain": [
       "{1: {'name': 'Akash', 'age': 32, 'add': 'Kathmandu'},\n",
       " 2: {'name': 'Asm', 'age': 3, 'add': 'Kath'},\n",
       " 3: {'name': 'Asim', 'age': 22, 'add': 'Kahmandu'}}"
      ]
     },
     "execution_count": 24,
     "metadata": {},
     "output_type": "execute_result"
    }
   ],
   "source": [
    "a[1]['name'] = 'Akash'\n",
    "a"
   ]
  },
  {
   "cell_type": "code",
   "execution_count": 26,
   "id": "762a3b25",
   "metadata": {},
   "outputs": [
    {
     "name": "stdout",
     "output_type": "stream",
     "text": [
      "{'name': 'Akash', 'age': 32, 'add': 'Kathmandu'}\n",
      "{'name': 'Asm', 'age': 3, 'add': 'Kath'}\n",
      "{'name': 'Asim', 'age': 22, 'add': 'Kahmandu'}\n"
     ]
    }
   ],
   "source": [
    "for i in a.values():\n",
    "    print(i)"
   ]
  },
  {
   "cell_type": "code",
   "execution_count": 30,
   "id": "73eba381",
   "metadata": {},
   "outputs": [
    {
     "name": "stdout",
     "output_type": "stream",
     "text": [
      "Enter the phone number = 222222\n",
      "Enter the phone number = 3333333\n",
      "Enter the phone number = 444444\n",
      "{1: {'name': 'Akash', 'age': 32, 'add': 'Kathmandu', 'phone': 222222}, 2: {'name': 'Asm', 'age': 3, 'add': 'Kath', 'phone': 3333333}, 3: {'name': 'Asim', 'age': 22, 'add': 'Kahmandu', 'phone': 444444}}\n"
     ]
    }
   ],
   "source": [
    "for i in a.values():\n",
    "    phone = int(input(\"Enter the phone number = \"))\n",
    "    i['phone'] = phone\n",
    "print(a)\n",
    "        "
   ]
  },
  {
   "cell_type": "code",
   "execution_count": 31,
   "id": "028f4b6a",
   "metadata": {},
   "outputs": [
    {
     "name": "stdout",
     "output_type": "stream",
     "text": [
      "Enter the phone number = 33333333\n",
      "Enter the phone number = 5555555\n",
      "Enter the phone number = 444444\n",
      "Enter the phone number = 555555888\n",
      "Enter the phone number = 77777\n",
      "Enter the phone number = 6666\n",
      "{1: {'name': 'Akash', 'age': 32, 'add': 'Kathmandu', 'phone': [33333333, 5555555]}, 2: {'name': 'Asm', 'age': 3, 'add': 'Kath', 'phone': [444444, 555555888]}, 3: {'name': 'Asim', 'age': 22, 'add': 'Kahmandu', 'phone': [77777, 6666]}}\n"
     ]
    }
   ],
   "source": [
    "for i in a.values():\n",
    "    ntc_phone = int(input(\"Enter the phone number = \"))\n",
    "    ncell_phone = int(input(\"Enter the phone number = \"))\n",
    "    i['phone'] = [ntc_phone, ncell_phone]\n",
    "print(a)\n",
    "        "
   ]
  },
  {
   "cell_type": "code",
   "execution_count": 32,
   "id": "2ff3c3d9",
   "metadata": {},
   "outputs": [
    {
     "data": {
      "text/plain": [
       "{1: {'phy': {'pr': 32, 'th': 45},\n",
       "  'che': {'pr': 33, 'th': 45},\n",
       "  'bio': {'pr': 32, 'th': 45}}}"
      ]
     },
     "execution_count": 32,
     "metadata": {},
     "output_type": "execute_result"
    }
   ],
   "source": [
    "#crud\n",
    "a = {1:{'phy':{'pr':32, 'th': 45}, 'che':{'pr':33, 'th': 45}, 'bio':{'pr':32, 'th': 45}}}\n",
    "a"
   ]
  },
  {
   "cell_type": "code",
   "execution_count": null,
   "id": "db8397c4",
   "metadata": {},
   "outputs": [],
   "source": []
  }
 ],
 "metadata": {
  "kernelspec": {
   "display_name": "Python 3",
   "language": "python",
   "name": "python3"
  },
  "language_info": {
   "codemirror_mode": {
    "name": "ipython",
    "version": 3
   },
   "file_extension": ".py",
   "mimetype": "text/x-python",
   "name": "python",
   "nbconvert_exporter": "python",
   "pygments_lexer": "ipython3",
   "version": "3.8.8"
  }
 },
 "nbformat": 4,
 "nbformat_minor": 5
}

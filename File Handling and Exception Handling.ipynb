{
 "cells": [
  {
   "cell_type": "code",
   "execution_count": null,
   "id": "cb27fa89",
   "metadata": {},
   "outputs": [],
   "source": [
    "#file = open('<file_name>',<'mode>')\n",
    "#file.close()\n",
    "\n",
    "#with open('<file_name>',<'mode>') as file:\n",
    "#   <operations"
   ]
  },
  {
   "cell_type": "code",
   "execution_count": null,
   "id": "cb7ffa02",
   "metadata": {},
   "outputs": [],
   "source": [
    "#modes\n",
    "#read -> 'r'\n",
    "#create -> 'x'\n",
    "#write -> 'w'\n",
    "#append -> 'a'\n"
   ]
  },
  {
   "cell_type": "code",
   "execution_count": 3,
   "id": "3a8c7f35",
   "metadata": {},
   "outputs": [],
   "source": [
    "try:\n",
    "    file = open('data.txt','x')\n",
    "    file.close()\n",
    "except:\n",
    "    print(\"The file has been already created.\")"
   ]
  },
  {
   "cell_type": "code",
   "execution_count": 10,
   "id": "0dfdaad0",
   "metadata": {},
   "outputs": [
    {
     "name": "stdout",
     "output_type": "stream",
     "text": [
      "1. Hello World\n",
      "2. Hello World\n",
      "3. Hello World\n",
      "4. Hello World\n",
      "5. Hello World\n",
      "6. Hello World\n",
      "7. Hello World\n",
      "8. Hello World\n",
      "9. Hello World\n",
      "10. Hello World\n"
     ]
    }
   ],
   "source": [
    "file = open('data.txt','r')\n",
    "x = file.read()\n",
    "print(x)\n",
    "file.close()"
   ]
  },
  {
   "cell_type": "code",
   "execution_count": 12,
   "id": "89d9b7cf",
   "metadata": {},
   "outputs": [
    {
     "data": {
      "text/plain": [
       "'1. Hello World\\n2. Hello World\\n3. Hello World\\n4. Hello World\\n5. Hello World\\n6. Hello World\\n7. Hello World\\n8. Hello World\\n9. Hello World\\n10. Hello World'"
      ]
     },
     "execution_count": 12,
     "metadata": {},
     "output_type": "execute_result"
    }
   ],
   "source": [
    "x.split(\"\\n\")\n",
    "x"
   ]
  },
  {
   "cell_type": "code",
   "execution_count": 13,
   "id": "398739d6",
   "metadata": {},
   "outputs": [
    {
     "data": {
      "text/plain": [
       "' '"
      ]
     },
     "execution_count": 13,
     "metadata": {},
     "output_type": "execute_result"
    }
   ],
   "source": [
    "x[2]"
   ]
  },
  {
   "cell_type": "code",
   "execution_count": 9,
   "id": "b4d4201c",
   "metadata": {},
   "outputs": [],
   "source": [
    "file = open('data.txt','w')\n",
    "file.write('Hello World') #overwrites the data available in the text file\n",
    "file.close()"
   ]
  },
  {
   "cell_type": "code",
   "execution_count": 14,
   "id": "fe49d9b4",
   "metadata": {},
   "outputs": [],
   "source": [
    "file = open('data1.txt','w')\n",
    "file.write('Hello World')\n",
    "file.close()"
   ]
  },
  {
   "cell_type": "code",
   "execution_count": 26,
   "id": "9133802b",
   "metadata": {},
   "outputs": [
    {
     "name": "stdout",
     "output_type": "stream",
     "text": [
      "Enter the value of n = 1\n",
      "Enter the name = Shampoo Clinic Plus\n",
      "Enter the price = 200\n",
      "Enter the value = 1\n",
      "\n",
      "Shampoo Clinic Plus 200 1 200\n",
      "\n"
     ]
    }
   ],
   "source": [
    "bill = \"\"\n",
    "n = int(input(\"Enter the value of n = \"))\n",
    "for i in range(n):\n",
    "    name = input(\"Enter the name = \")\n",
    "    price = int(input(\"Enter the price = \"))\n",
    "    quantity = int(input(\"Enter the value = \"))\n",
    "    total = price * quantity\n",
    "    bill = bill + f\"{name} {price} {quantity} {total}\\n\"\n",
    "    print(bill)\n",
    "\n",
    "file = open('Bill.txt','a')\n",
    "file.write(bill)\n",
    "file.close()\n",
    "\n",
    "    "
   ]
  },
  {
   "cell_type": "code",
   "execution_count": 35,
   "id": "0c7a3a06",
   "metadata": {},
   "outputs": [
    {
     "name": "stdout",
     "output_type": "stream",
     "text": [
      "Enter the value of n = 1\n",
      "Enter the name = Shampoo\n",
      "Enter the price = 200\n",
      "Enter the value = 3\n",
      "Shampoo, 200, 3, 600\n",
      "\n"
     ]
    }
   ],
   "source": [
    "bill = \"\"\n",
    "n = int(input(\"Enter the value of n = \"))\n",
    "    \n",
    "for i in range(n):\n",
    "    name = input(\"Enter the name = \")\n",
    "    price = int(input(\"Enter the price = \"))\n",
    "    quantity = int(input(\"Enter the value = \"))\n",
    "    total = price * quantity\n",
    "    bill = bill + f\"{name}, {price}, {quantity}, {total}\\n\"\n",
    "    print(bill)\n",
    "\n",
    "file = open('Bill2.csv','w')\n",
    "file.write('Name,Price,Quantity,Total\\n')\n",
    "file.write(bill)\n",
    "file.close()\n",
    "\n",
    "    "
   ]
  },
  {
   "cell_type": "raw",
   "id": "32e40839",
   "metadata": {},
   "source": []
  },
  {
   "cell_type": "code",
   "execution_count": 1,
   "id": "e7a0e995",
   "metadata": {},
   "outputs": [
    {
     "name": "stdout",
     "output_type": "stream",
     "text": [
      "Name,Price,Quantity,Total\n",
      "Shampoo, 200, 3, 600\n",
      "\n"
     ]
    }
   ],
   "source": [
    "file = open('Bill2.csv','r')\n",
    "x = file.read()\n",
    "print(x)\n",
    "file.close()"
   ]
  },
  {
   "cell_type": "code",
   "execution_count": 3,
   "id": "256e0513",
   "metadata": {},
   "outputs": [
    {
     "data": {
      "text/plain": [
       "['Name,Price,Quantity,Total', 'Shampoo, 200, 3, 600']"
      ]
     },
     "execution_count": 3,
     "metadata": {},
     "output_type": "execute_result"
    }
   ],
   "source": [
    "y = x.split('\\n')[0:-1]\n",
    "y"
   ]
  },
  {
   "cell_type": "code",
   "execution_count": 4,
   "id": "706b165e",
   "metadata": {},
   "outputs": [
    {
     "data": {
      "text/plain": [
       "[['Name', 'Price', 'Quantity', 'Total'], ['Shampoo', ' 200', ' 3', ' 600']]"
      ]
     },
     "execution_count": 4,
     "metadata": {},
     "output_type": "execute_result"
    }
   ],
   "source": [
    "bills = []\n",
    "for i in y:\n",
    "    bills.append(i.split(','))\n",
    "bills"
   ]
  },
  {
   "cell_type": "code",
   "execution_count": 7,
   "id": "a4e12981",
   "metadata": {},
   "outputs": [
    {
     "data": {
      "text/plain": [
       "600"
      ]
     },
     "execution_count": 7,
     "metadata": {},
     "output_type": "execute_result"
    }
   ],
   "source": [
    "all_total = 0\n",
    "for i in range(1,len(bills)):\n",
    "    z = int(bills[i][3])\n",
    "    all_total = all_total + z\n",
    "all_total\n",
    "    \n",
    "    "
   ]
  },
  {
   "cell_type": "code",
   "execution_count": null,
   "id": "da474e6c",
   "metadata": {},
   "outputs": [],
   "source": []
  }
 ],
 "metadata": {
  "kernelspec": {
   "display_name": "Python 3",
   "language": "python",
   "name": "python3"
  },
  "language_info": {
   "codemirror_mode": {
    "name": "ipython",
    "version": 3
   },
   "file_extension": ".py",
   "mimetype": "text/x-python",
   "name": "python",
   "nbconvert_exporter": "python",
   "pygments_lexer": "ipython3",
   "version": "3.8.8"
  }
 },
 "nbformat": 4,
 "nbformat_minor": 5
}

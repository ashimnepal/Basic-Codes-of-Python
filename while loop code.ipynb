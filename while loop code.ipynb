{
 "cells": [
  {
   "cell_type": "code",
   "execution_count": 3,
   "id": "38d9e7aa",
   "metadata": {
    "scrolled": true
   },
   "outputs": [
    {
     "name": "stdout",
     "output_type": "stream",
     "text": [
      "1 hello world\n",
      "2 hello world\n",
      "3 hello world\n",
      "4 hello world\n",
      "5 hello world\n"
     ]
    }
   ],
   "source": [
    "i = 0\n",
    "while i<5:\n",
    "    print(i+1, \"hello world\")\n",
    "    i= i+1"
   ]
  },
  {
   "cell_type": "code",
   "execution_count": 7,
   "id": "bf2e5fab",
   "metadata": {},
   "outputs": [
    {
     "name": "stdout",
     "output_type": "stream",
     "text": [
      "6 hello world\n",
      "5 hello world\n",
      "4 hello world\n",
      "3 hello world\n",
      "2 hello world\n",
      "1 hello world\n",
      "0 hello world\n"
     ]
    }
   ],
   "source": [
    "i = 6\n",
    "while i>=0:\n",
    "    print(i, \"hello world\")\n",
    "    i= i-1"
   ]
  },
  {
   "cell_type": "code",
   "execution_count": 3,
   "id": "f0813a8a",
   "metadata": {},
   "outputs": [
    {
     "name": "stdout",
     "output_type": "stream",
     "text": [
      "Enter any number = Python\n",
      "You entered python\n"
     ]
    }
   ],
   "source": [
    "#while as if statement\n",
    "n = input(\"Enter any number = \")\n",
    "while n ==\"Python\":\n",
    "    print(\"You entered python\")\n",
    "    break\n",
    "else:\n",
    "    print(\"Another one\")"
   ]
  },
  {
   "cell_type": "code",
   "execution_count": 15,
   "id": "5c63f946",
   "metadata": {},
   "outputs": [
    {
     "name": "stdout",
     "output_type": "stream",
     "text": [
      "Enter any number = 12\n",
      "12 * = 12\n",
      "12 * = 24\n",
      "12 * = 36\n",
      "12 * = 48\n",
      "12 * = 60\n",
      "12 * = 72\n",
      "12 * = 84\n",
      "12 * = 96\n",
      "12 * = 108\n",
      "12 * = 120\n"
     ]
    }
   ],
   "source": [
    "n = int(input(\"Enter any number = \"))\n",
    "i = 1\n",
    "while i<=10:\n",
    "    print(n,\"*\",\"=\",n*i)\n",
    "    i+=1\n",
    "    "
   ]
  },
  {
   "cell_type": "code",
   "execution_count": 19,
   "id": "79240b4d",
   "metadata": {},
   "outputs": [
    {
     "name": "stdout",
     "output_type": "stream",
     "text": [
      "Enter any number = 12\n",
      "12 + 1 = 13\n",
      "12 + 1 = 14\n",
      "12 + 1 = 15\n",
      "12 + 1 = 16\n",
      "12 + 1 = 17\n",
      "12 + 1 = 18\n",
      "12 + 1 = 19\n",
      "12 + 1 = 20\n",
      "12 + 1 = 21\n",
      "12 + 1 = 22\n"
     ]
    }
   ],
   "source": [
    "n = int(input(\"Enter any number = \"))\n",
    "i = 1\n",
    "while i<=10:\n",
    "    print(n,\"+\",\"1\",\"=\",n+i)\n",
    "    i+=1\n",
    "    "
   ]
  },
  {
   "cell_type": "code",
   "execution_count": 7,
   "id": "ea4dae56",
   "metadata": {},
   "outputs": [
    {
     "name": "stdout",
     "output_type": "stream",
     "text": [
      "Enter n = 1\n",
      "Enter s = 12\n",
      "12\n"
     ]
    }
   ],
   "source": [
    "s = 0\n",
    "i = 0\n",
    "n = int(input(\"Enter n = \"))\n",
    "while i<n:\n",
    "    x = int(input(\"Enter s = \"))\n",
    "    s = s+x\n",
    "    i = i+1\n",
    "    \n",
    "print(s)"
   ]
  },
  {
   "cell_type": "code",
   "execution_count": 9,
   "id": "c670e108",
   "metadata": {},
   "outputs": [
    {
     "name": "stdout",
     "output_type": "stream",
     "text": [
      "0 0\n",
      "0 1\n",
      "1 0\n",
      "1 1\n"
     ]
    }
   ],
   "source": [
    "#nested\n",
    "for i in range(2):\n",
    "    for j in range(2):\n",
    "        print(i,j)\n",
    "    "
   ]
  },
  {
   "cell_type": "code",
   "execution_count": 19,
   "id": "0d3b2b2b",
   "metadata": {},
   "outputs": [
    {
     "name": "stdout",
     "output_type": "stream",
     "text": [
      "0\n",
      "1\n",
      "1\n",
      "2\n",
      "3\n",
      "5\n",
      "8\n",
      "13\n",
      "21\n",
      "34\n"
     ]
    }
   ],
   "source": [
    "def fib(n):\n",
    "    a = 0\n",
    "    b = 1\n",
    "    print(a)\n",
    "    print(b)\n",
    "    for i in range(2,n):\n",
    "            c = a + b\n",
    "            a = b\n",
    "            b = c\n",
    "            print(c)\n",
    "fib(10)"
   ]
  },
  {
   "cell_type": "code",
   "execution_count": null,
   "id": "51335e8c",
   "metadata": {},
   "outputs": [],
   "source": []
  }
 ],
 "metadata": {
  "kernelspec": {
   "display_name": "Python 3",
   "language": "python",
   "name": "python3"
  },
  "language_info": {
   "codemirror_mode": {
    "name": "ipython",
    "version": 3
   },
   "file_extension": ".py",
   "mimetype": "text/x-python",
   "name": "python",
   "nbconvert_exporter": "python",
   "pygments_lexer": "ipython3",
   "version": "3.8.8"
  }
 },
 "nbformat": 4,
 "nbformat_minor": 5
}

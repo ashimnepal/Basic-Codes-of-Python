{
 "cells": [
  {
   "cell_type": "code",
   "execution_count": 1,
   "id": "74af75a8",
   "metadata": {},
   "outputs": [],
   "source": [
    "#class A:\n",
    " #   pass\n",
    "#class B(A):\n",
    " #   pass"
   ]
  },
  {
   "cell_type": "code",
   "execution_count": 4,
   "id": "aaca4154",
   "metadata": {},
   "outputs": [
    {
     "name": "stdout",
     "output_type": "stream",
     "text": [
      "Hello World I am Ram and I live in BKT\n"
     ]
    }
   ],
   "source": [
    "class A:\n",
    "    def __init__(self):\n",
    "        self.name = \"Ram\"\n",
    "        self.address = \"BKT\"\n",
    "class B(A):\n",
    "    def info(self):\n",
    "        print(f\"Hello World I am {self.name} and I live in {self.address}\")\n",
    "obj = B()\n",
    "obj.info()     \n",
    "        "
   ]
  },
  {
   "cell_type": "code",
   "execution_count": 3,
   "id": "4b1b1876",
   "metadata": {},
   "outputs": [
    {
     "name": "stdout",
     "output_type": "stream",
     "text": [
      "Enter the name = ashim\n",
      "Enter the age = 55\n",
      "Hello World I am Ram and I am 34 of age\n"
     ]
    }
   ],
   "source": [
    "class A:\n",
    "    def __init__(self,name,age):\n",
    "        self.name = \"Ram\"\n",
    "        self.age = 34\n",
    "class B(A):\n",
    "    def info(self):\n",
    "        print(f\"Hello World I am {self.name} and I am {self.age} of age\")\n",
    "name = input(\"Enter the name = \")\n",
    "age = int(input(\"Enter the age = \"))\n",
    "obj = B(name,age)\n",
    "obj.info()"
   ]
  },
  {
   "cell_type": "code",
   "execution_count": 4,
   "id": "4709c653",
   "metadata": {},
   "outputs": [
    {
     "name": "stdout",
     "output_type": "stream",
     "text": [
      "Enter the name = ashim nepal\n",
      "Enter the age = 55\n",
      "Hello World I am ashim nepal and I am 55 of age\n"
     ]
    }
   ],
   "source": [
    "class A:\n",
    "    def __init__(self,age):\n",
    "        self.age = age\n",
    "class B(A):\n",
    "    def __init__(self,name,age):\n",
    "        self.name = name\n",
    "        A.__init__(self,age)\n",
    "    def info(self):\n",
    "        print(f\"Hello World I am {self.name} and I am {self.age} of age\")\n",
    "name = input(\"Enter the name = \")\n",
    "age = int(input(\"Enter the age = \"))\n",
    "obj = B(name,age)\n",
    "obj.info()"
   ]
  },
  {
   "cell_type": "code",
   "execution_count": null,
   "id": "94d31405",
   "metadata": {},
   "outputs": [],
   "source": [
    "#Types of Inheritance\n",
    "#multi level\n",
    "#multiple inheritance"
   ]
  },
  {
   "cell_type": "code",
   "execution_count": 2,
   "id": "e5575dba",
   "metadata": {},
   "outputs": [
    {
     "ename": "NameError",
     "evalue": "name 'C' is not defined",
     "output_type": "error",
     "traceback": [
      "\u001b[1;31m---------------------------------------------------------------------------\u001b[0m",
      "\u001b[1;31mNameError\u001b[0m                                 Traceback (most recent call last)",
      "\u001b[1;32m<ipython-input-2-4d2a1463049f>\u001b[0m in \u001b[0;36m<module>\u001b[1;34m\u001b[0m\n\u001b[0;32m      4\u001b[0m \u001b[1;32mclass\u001b[0m \u001b[0mB\u001b[0m\u001b[1;33m(\u001b[0m\u001b[0mA\u001b[0m\u001b[1;33m)\u001b[0m\u001b[1;33m:\u001b[0m\u001b[1;33m\u001b[0m\u001b[1;33m\u001b[0m\u001b[0m\n\u001b[0;32m      5\u001b[0m     \u001b[1;32mpass\u001b[0m\u001b[1;33m\u001b[0m\u001b[1;33m\u001b[0m\u001b[0m\n\u001b[1;32m----> 6\u001b[1;33m \u001b[1;32mclass\u001b[0m \u001b[0mC\u001b[0m\u001b[1;33m(\u001b[0m\u001b[0mB\u001b[0m\u001b[1;33m)\u001b[0m\u001b[1;33m:\u001b[0m\u001b[1;33m\u001b[0m\u001b[1;33m\u001b[0m\u001b[0m\n\u001b[0m\u001b[0;32m      7\u001b[0m \u001b[1;33m\u001b[0m\u001b[0m\n\u001b[0;32m      8\u001b[0m     \u001b[0mobj\u001b[0m \u001b[1;33m=\u001b[0m \u001b[0mC\u001b[0m\u001b[1;33m(\u001b[0m\u001b[1;33m)\u001b[0m\u001b[1;33m\u001b[0m\u001b[1;33m\u001b[0m\u001b[0m\n",
      "\u001b[1;32m<ipython-input-2-4d2a1463049f>\u001b[0m in \u001b[0;36mC\u001b[1;34m()\u001b[0m\n\u001b[0;32m      6\u001b[0m \u001b[1;32mclass\u001b[0m \u001b[0mC\u001b[0m\u001b[1;33m(\u001b[0m\u001b[0mB\u001b[0m\u001b[1;33m)\u001b[0m\u001b[1;33m:\u001b[0m\u001b[1;33m\u001b[0m\u001b[1;33m\u001b[0m\u001b[0m\n\u001b[0;32m      7\u001b[0m \u001b[1;33m\u001b[0m\u001b[0m\n\u001b[1;32m----> 8\u001b[1;33m     \u001b[0mobj\u001b[0m \u001b[1;33m=\u001b[0m \u001b[0mC\u001b[0m\u001b[1;33m(\u001b[0m\u001b[1;33m)\u001b[0m\u001b[1;33m\u001b[0m\u001b[1;33m\u001b[0m\u001b[0m\n\u001b[0m",
      "\u001b[1;31mNameError\u001b[0m: name 'C' is not defined"
     ]
    }
   ],
   "source": [
    "#multilevel inheritance\n",
    "class A:\n",
    "    pass\n",
    "class B(A):\n",
    "    pass\n",
    "class C(B):\n",
    "\n",
    "    obj = C()"
   ]
  },
  {
   "cell_type": "code",
   "execution_count": null,
   "id": "9dc1ecde",
   "metadata": {},
   "outputs": [],
   "source": [
    "#multiple inheritance\n",
    "class A:\n",
    "    pass\n",
    "class B():\n",
    "    pass\n",
    "class C(A,B):\n",
    "\n",
    "obj = C()"
   ]
  },
  {
   "cell_type": "code",
   "execution_count": 6,
   "id": "87d1819d",
   "metadata": {},
   "outputs": [
    {
     "name": "stdout",
     "output_type": "stream",
     "text": [
      "Enter the name = ashim\n",
      "Enter the age = 55\n",
      "Enter the address = bhaktapur\n",
      "Hello World I am ashim and I am 55 of age and i live in bhaktapur\n"
     ]
    }
   ],
   "source": [
    "class A:\n",
    "    def __init__(self,add):\n",
    "        self.add = add\n",
    "class B(A):\n",
    "    def __init__(self,age,add):\n",
    "        self.age = age\n",
    "        A.__init__(self,add)\n",
    "class C(B):\n",
    "    def __init__(self,name,age,add):\n",
    "        self.name = name\n",
    "        B.__init__(self,age,add)\n",
    "    \n",
    "    def info(self):\n",
    "        print(f\"Hello World I am {self.name} and I am {self.age} of age and i live in {self.add}\")\n",
    "name = input(\"Enter the name = \")\n",
    "age = int(input(\"Enter the age = \"))\n",
    "add = input(\"Enter the address = \")\n",
    "obj = C(name,age,add)\n",
    "obj.info()"
   ]
  },
  {
   "cell_type": "code",
   "execution_count": 8,
   "id": "269d6c18",
   "metadata": {},
   "outputs": [
    {
     "name": "stdout",
     "output_type": "stream",
     "text": [
      "Enter the name = ashim\n",
      "Enter the age = 55\n",
      "Enter the address = kathmandu\n",
      "Hello World I am ashim and I am 55 of age and i live in kathmandu\n"
     ]
    }
   ],
   "source": [
    "#multiple inheritance\n",
    "class A:\n",
    "    def __init__(self,add):\n",
    "        self.add = add\n",
    "class B:\n",
    "    def __init__(self,age):\n",
    "        self.age = age\n",
    "        \n",
    "class C(A,B):\n",
    "    def __init__(self,name,age,add):\n",
    "        self.name = name\n",
    "        B.__init__(self,age)\n",
    "        A.__init__(self,add)\n",
    "    \n",
    "    def info(self):\n",
    "        print(f\"Hello World I am {self.name} and I am {self.age} of age and i live in {self.add}\")\n",
    "name = input(\"Enter the name = \")\n",
    "age = int(input(\"Enter the age = \"))\n",
    "add = input(\"Enter the address = \")\n",
    "obj = C(name,age,add)\n",
    "obj.info()"
   ]
  },
  {
   "cell_type": "code",
   "execution_count": null,
   "id": "ea0d2069",
   "metadata": {},
   "outputs": [],
   "source": []
  }
 ],
 "metadata": {
  "kernelspec": {
   "display_name": "Python 3",
   "language": "python",
   "name": "python3"
  },
  "language_info": {
   "codemirror_mode": {
    "name": "ipython",
    "version": 3
   },
   "file_extension": ".py",
   "mimetype": "text/x-python",
   "name": "python",
   "nbconvert_exporter": "python",
   "pygments_lexer": "ipython3",
   "version": "3.8.8"
  }
 },
 "nbformat": 4,
 "nbformat_minor": 5
}

{
 "cells": [
  {
   "cell_type": "code",
   "execution_count": null,
   "id": "73172aa3",
   "metadata": {},
   "outputs": [],
   "source": [
    "#public members"
   ]
  },
  {
   "cell_type": "code",
   "execution_count": 2,
   "id": "91e57759",
   "metadata": {},
   "outputs": [
    {
     "name": "stdout",
     "output_type": "stream",
     "text": [
      "Ram\n",
      "25\n",
      "Bhaktapur\n"
     ]
    }
   ],
   "source": [
    "class info:\n",
    "    def __init__(self):\n",
    "        self.name = \"Ram\"\n",
    "        self.age = 25\n",
    "        self.address = \"Bhaktapur\"\n",
    "obj = info()\n",
    "print(obj.name)\n",
    "print(obj.age)\n",
    "print(obj.address)\n",
    "    "
   ]
  },
  {
   "cell_type": "code",
   "execution_count": 4,
   "id": "eb6d51a7",
   "metadata": {},
   "outputs": [
    {
     "name": "stdout",
     "output_type": "stream",
     "text": [
      "Ram\n",
      "25\n",
      "Bhaktapur\n"
     ]
    }
   ],
   "source": [
    "#protected\n",
    "class info:\n",
    "    def __init__(self):\n",
    "        self._name = \"Ram\"\n",
    "        self._age = 25\n",
    "        self._address = \"Bhaktapur\"\n",
    "obj = info()\n",
    "print(obj._name)\n",
    "print(obj._age)\n",
    "print(obj._address)\n",
    "    \n"
   ]
  },
  {
   "cell_type": "code",
   "execution_count": 5,
   "id": "a96e608f",
   "metadata": {},
   "outputs": [
    {
     "ename": "AttributeError",
     "evalue": "'info' object has no attribute '__name'",
     "output_type": "error",
     "traceback": [
      "\u001b[1;31m---------------------------------------------------------------------------\u001b[0m",
      "\u001b[1;31mAttributeError\u001b[0m                            Traceback (most recent call last)",
      "\u001b[1;32m<ipython-input-5-10c30ce7941f>\u001b[0m in \u001b[0;36m<module>\u001b[1;34m\u001b[0m\n\u001b[0;32m      6\u001b[0m         \u001b[0mself\u001b[0m\u001b[1;33m.\u001b[0m\u001b[0m__address\u001b[0m \u001b[1;33m=\u001b[0m \u001b[1;34m\"Bhaktapur\"\u001b[0m\u001b[1;33m\u001b[0m\u001b[1;33m\u001b[0m\u001b[0m\n\u001b[0;32m      7\u001b[0m \u001b[0mobj\u001b[0m \u001b[1;33m=\u001b[0m \u001b[0minfo\u001b[0m\u001b[1;33m(\u001b[0m\u001b[1;33m)\u001b[0m\u001b[1;33m\u001b[0m\u001b[1;33m\u001b[0m\u001b[0m\n\u001b[1;32m----> 8\u001b[1;33m \u001b[0mprint\u001b[0m\u001b[1;33m(\u001b[0m\u001b[0mobj\u001b[0m\u001b[1;33m.\u001b[0m\u001b[0m__name\u001b[0m\u001b[1;33m)\u001b[0m\u001b[1;33m\u001b[0m\u001b[1;33m\u001b[0m\u001b[0m\n\u001b[0m\u001b[0;32m      9\u001b[0m \u001b[0mprint\u001b[0m\u001b[1;33m(\u001b[0m\u001b[0mobj\u001b[0m\u001b[1;33m.\u001b[0m\u001b[0m__age\u001b[0m\u001b[1;33m)\u001b[0m\u001b[1;33m\u001b[0m\u001b[1;33m\u001b[0m\u001b[0m\n\u001b[0;32m     10\u001b[0m \u001b[0mprint\u001b[0m\u001b[1;33m(\u001b[0m\u001b[0mobj\u001b[0m\u001b[1;33m.\u001b[0m\u001b[0m__address\u001b[0m\u001b[1;33m)\u001b[0m\u001b[1;33m\u001b[0m\u001b[1;33m\u001b[0m\u001b[0m\n",
      "\u001b[1;31mAttributeError\u001b[0m: 'info' object has no attribute '__name'"
     ]
    }
   ],
   "source": [
    "#protected\n",
    "class info:\n",
    "    def __init__(self):\n",
    "        self.__name = \"Ram\"\n",
    "        self.__age = 25\n",
    "        self.__address = \"Bhaktapur\"\n",
    "obj = info()\n",
    "print(obj.__name)\n",
    "print(obj.__age)\n",
    "print(obj.__address)"
   ]
  },
  {
   "cell_type": "code",
   "execution_count": 7,
   "id": "11234fc3",
   "metadata": {},
   "outputs": [
    {
     "name": "stdout",
     "output_type": "stream",
     "text": [
      "Enter the name = ashim\n",
      "Enter the age = 55\n",
      "Hello World I am Ram.\n",
      "I am 34\n"
     ]
    }
   ],
   "source": [
    "class A:\n",
    "    def __init__(self,name,age):\n",
    "        self._name = \"Ram\"\n",
    "        self.__age = 34\n",
    "    def a(self):\n",
    "        print(f\"I am {self.__age}\")\n",
    "class B(A):\n",
    "    def info(self):\n",
    "        print(f\"Hello World I am {self._name}.\")\n",
    "name = input(\"Enter the name = \")\n",
    "age = int(input(\"Enter the age = \"))\n",
    "obj = B(name,age)\n",
    "obj.info()\n",
    "obj.a()"
   ]
  },
  {
   "cell_type": "code",
   "execution_count": 8,
   "id": "2b52d848",
   "metadata": {},
   "outputs": [
    {
     "name": "stdout",
     "output_type": "stream",
     "text": [
      "Enter the name = ashim\n",
      "Enter the age = 55\n",
      "Enter the address = bkt\n",
      "Hello World I am ashim and I am 55 of age and i live in bkt\n"
     ]
    }
   ],
   "source": [
    "#encapculation inside multi level inheritance\n",
    "class A:\n",
    "    def __init__(self,add):\n",
    "        self._add = add\n",
    "class B(A):\n",
    "    def __init__(self,age,add):\n",
    "        self._age = age\n",
    "        A.__init__(self,add)\n",
    "class C(B):\n",
    "    def __init__(self,name,age,add):\n",
    "        self.__name = name\n",
    "        B.__init__(self,age,add)\n",
    "    \n",
    "    def info(self):\n",
    "        print(f\"Hello World I am {self.__name} and I am {self._age} of age and i live in {self._add}\")\n",
    "name = input(\"Enter the name = \")\n",
    "age = int(input(\"Enter the age = \"))\n",
    "add = input(\"Enter the address = \")\n",
    "obj = C(name,age,add)\n",
    "obj.info()"
   ]
  },
  {
   "cell_type": "code",
   "execution_count": 18,
   "id": "ce14ed73",
   "metadata": {},
   "outputs": [
    {
     "name": "stdout",
     "output_type": "stream",
     "text": [
      "Enter the name = ashim\n",
      "Enter the age = 44\n",
      "Enter the address = fjaskdjfi\n",
      "Enter the phone = 8788879879\n",
      "Hello World I am ashim and I am 44 of age and i live in fjaskdjfi and my contact is 8788879879\n"
     ]
    },
    {
     "data": {
      "text/plain": [
       "8788879879"
      ]
     },
     "execution_count": 18,
     "metadata": {},
     "output_type": "execute_result"
    }
   ],
   "source": [
    "#encapculation inside multiple inheritance\n",
    "class A:\n",
    "    def __init__(self,add,phone):\n",
    "        self._add = add\n",
    "        self.__phone = phone\n",
    "    def my_fone(self):\n",
    "        return self.__phone\n",
    "class B:\n",
    "    def __init__(self,age):\n",
    "        self._age = age\n",
    "        \n",
    "class C(A,B):\n",
    "    def __init__(self,name,age,add,phone):\n",
    "        self.__name = name\n",
    "        B.__init__(self,age)\n",
    "        A.__init__(self,add,phone)\n",
    "    \n",
    "    def info(self):\n",
    "        print(f\"Hello World I am {self.__name} and I am {self._age} of age and i live in {self._add} and my contact is {super().my_fone()}\")\n",
    "name = input(\"Enter the name = \")\n",
    "age = int(input(\"Enter the age = \"))\n",
    "add = input(\"Enter the address = \")\n",
    "phone = int(input(\"Enter the phone = \"))\n",
    "obj = C(name,age,add,phone)\n",
    "obj.info()"
   ]
  },
  {
   "cell_type": "code",
   "execution_count": null,
   "id": "6658396f",
   "metadata": {},
   "outputs": [],
   "source": []
  }
 ],
 "metadata": {
  "kernelspec": {
   "display_name": "Python 3",
   "language": "python",
   "name": "python3"
  },
  "language_info": {
   "codemirror_mode": {
    "name": "ipython",
    "version": 3
   },
   "file_extension": ".py",
   "mimetype": "text/x-python",
   "name": "python",
   "nbconvert_exporter": "python",
   "pygments_lexer": "ipython3",
   "version": "3.8.8"
  }
 },
 "nbformat": 4,
 "nbformat_minor": 5
}

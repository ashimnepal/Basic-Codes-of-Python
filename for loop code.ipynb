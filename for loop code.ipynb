{
 "cells": [
  {
   "cell_type": "code",
   "execution_count": null,
   "id": "43df383a",
   "metadata": {},
   "outputs": [],
   "source": [
    "n = int(input(\"Enter any number =\"))\n",
    "for i in range(2,n):\n",
    "        if n%i==0:\n",
    "            print(\"This is a composite number\")\n",
    "            break\n",
    "else :      print(\"this is prime number\")\n",
    "\n",
    "          "
   ]
  },
  {
   "cell_type": "code",
   "execution_count": null,
   "id": "556d7bb7",
   "metadata": {},
   "outputs": [],
   "source": [
    "n = int(input(\"Enter any number =\"))\n",
    "if n =>2:\n",
    "    for i in range(2,n):\n",
    "        if n%i==0:\n",
    "            print(\"This is a composite number\")\n",
    "            break\n",
    "    else :      \n",
    "        print(\"this is prime number\")\n",
    "else:\n",
    "    print(\"the value should be greater than 2\")"
   ]
  },
  {
   "cell_type": "code",
   "execution_count": 6,
   "id": "56668141",
   "metadata": {},
   "outputs": [
    {
     "name": "stdout",
     "output_type": "stream",
     "text": [
      "Enter any number = 12\n",
      "12\n"
     ]
    }
   ],
   "source": [
    "#factorial\n",
    "n = int(input(\"Enter any number = \"))\n",
    "for i in range(1,n+1):\n",
    "    fac = fac*1\n",
    "print(fac)"
   ]
  },
  {
   "cell_type": "code",
   "execution_count": 7,
   "id": "b74995f9",
   "metadata": {},
   "outputs": [
    {
     "name": "stdout",
     "output_type": "stream",
     "text": [
      "0 0\n",
      "0 1\n",
      "1 0\n",
      "1 1\n"
     ]
    }
   ],
   "source": [
    "#nested\n",
    "for i in range(2):\n",
    "    for j in range(2):\n",
    "        print(i,j)\n",
    "    "
   ]
  },
  {
   "cell_type": "code",
   "execution_count": null,
   "id": "2dd44bf1",
   "metadata": {},
   "outputs": [],
   "source": []
  }
 ],
 "metadata": {
  "kernelspec": {
   "display_name": "Python 3",
   "language": "python",
   "name": "python3"
  },
  "language_info": {
   "codemirror_mode": {
    "name": "ipython",
    "version": 3
   },
   "file_extension": ".py",
   "mimetype": "text/x-python",
   "name": "python",
   "nbconvert_exporter": "python",
   "pygments_lexer": "ipython3",
   "version": "3.8.8"
  }
 },
 "nbformat": 4,
 "nbformat_minor": 5
}

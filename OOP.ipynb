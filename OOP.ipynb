{
 "cells": [
  {
   "cell_type": "code",
   "execution_count": null,
   "id": "68e871f3",
   "metadata": {},
   "outputs": [],
   "source": [
    "#Object Oriented Programming\n",
    "#classes and objects\n",
    "#july17 and july 18, july 19 important"
   ]
  },
  {
   "cell_type": "code",
   "execution_count": 1,
   "id": "7f2e6089",
   "metadata": {},
   "outputs": [
    {
     "name": "stdout",
     "output_type": "stream",
     "text": [
      "Hello World\n"
     ]
    }
   ],
   "source": [
    "class Hello:           #class\n",
    "    print(\"Hello World\")\n",
    "obj = Hello()          #object\n"
   ]
  },
  {
   "cell_type": "code",
   "execution_count": 4,
   "id": "24251cc7",
   "metadata": {},
   "outputs": [
    {
     "name": "stdout",
     "output_type": "stream",
     "text": [
      "Hello World\n"
     ]
    }
   ],
   "source": [
    "class Hello:           #class\n",
    "    def hello(self):           #method\n",
    "        print(\"Hello World\")\n",
    "obj = Hello()             #object\n",
    "obj.hello()"
   ]
  },
  {
   "cell_type": "code",
   "execution_count": 5,
   "id": "7761902f",
   "metadata": {},
   "outputs": [
    {
     "name": "stdout",
     "output_type": "stream",
     "text": [
      "Hello World\n"
     ]
    }
   ],
   "source": [
    "class Hello:           #class\n",
    "    @staticmethod\n",
    "    def hello():           #method\n",
    "        print(\"Hello World\")\n",
    "obj = Hello()             #object\n",
    "obj.hello()"
   ]
  },
  {
   "cell_type": "code",
   "execution_count": 1,
   "id": "3e00a6b5",
   "metadata": {},
   "outputs": [
    {
     "name": "stdout",
     "output_type": "stream",
     "text": [
      "Enter the value of principle = 12\n",
      "Enter the value of time = 10\n",
      "Enter the value of rate = 5\n",
      "Your simple interest is = 6.0\n"
     ]
    }
   ],
   "source": [
    "class Cal:\n",
    "    def simplecal(self,p,t,r):\n",
    "        i = p*t*r/100\n",
    "        print(\"Your simple interest is =\", i)\n",
    "p = int(input(\"Enter the value of principle = \"))\n",
    "t = int(input(\"Enter the value of time = \"))\n",
    "r = int(input(\"Enter the value of rate = \"))\n",
    "obj = Cal()\n",
    "obj.simplecal(p,t,r)\n",
    "\n",
    "        "
   ]
  },
  {
   "cell_type": "code",
   "execution_count": 3,
   "id": "5f183d9a",
   "metadata": {},
   "outputs": [
    {
     "name": "stdout",
     "output_type": "stream",
     "text": [
      "Enter the value of length = 10\n",
      "Enter the value of breadth = 20\n",
      "Enter the value of height = 30\n",
      "Your area is =  200\n",
      "Your volume is =  6000\n"
     ]
    }
   ],
   "source": [
    "class Cal:\n",
    "    def area(self,l,b):\n",
    "        a = l*b\n",
    "        print(\"Your area is = \", a)\n",
    "    def volume(self,l,b,h):\n",
    "        v = l*b*h \n",
    "        print(\"Your volume is = \", v)\n",
    "l = int(input(\"Enter the value of length = \"))\n",
    "b = int(input(\"Enter the value of breadth = \"))\n",
    "h = int(input(\"Enter the value of height = \"))\n",
    "obj = Cal()\n",
    "obj.area(l,b)\n",
    "obj.volume(l,b,h)\n"
   ]
  },
  {
   "cell_type": "code",
   "execution_count": 5,
   "id": "33e05bdc",
   "metadata": {},
   "outputs": [
    {
     "name": "stdout",
     "output_type": "stream",
     "text": [
      "Enter the value of principle = 2000000\n",
      "Enter the value of time = 3\n",
      "Enter the value of rate = 20\n",
      "Your simple interest is = 1200000.0\n",
      "This is just me trying 120000000\n"
     ]
    }
   ],
   "source": [
    "class Cal:\n",
    "    def __init__(self,p,t,r):\n",
    "        self.p = p\n",
    "        self.t = t\n",
    "        self.r = r        \n",
    "    def simplecal(self):\n",
    "        i = self.p*self.t*self.r/100\n",
    "        print(\"Your simple interest is =\", i)\n",
    "    def vcal(self):\n",
    "        v = self.p*self.t*self.r\n",
    "        print(\"This is just me trying\", v)\n",
    "        \n",
    "        \n",
    "        \n",
    "        \n",
    "        \n",
    "p = int(input(\"Enter the value of principle = \"))\n",
    "t = int(input(\"Enter the value of time = \"))\n",
    "r = int(input(\"Enter the value of rate = \"))\n",
    "obj = Cal(p,t,r)\n",
    "obj.simplecal()\n",
    "obj.vcal()\n",
    "\n",
    "        "
   ]
  },
  {
   "cell_type": "code",
   "execution_count": 9,
   "id": "2bf6fef8",
   "metadata": {},
   "outputs": [
    {
     "name": "stdout",
     "output_type": "stream",
     "text": [
      "Enter the value of length = 10\n",
      "Enter the value of breadth = 200\n",
      "Enter the value of height = 300\n",
      "Your area is =  2000\n",
      "Your volume is =  600000\n"
     ]
    }
   ],
   "source": [
    "l = int(input(\"Enter the value of length = \"))\n",
    "b = int(input(\"Enter the value of breadth = \"))\n",
    "h = int(input(\"Enter the value of height = \"))\n",
    "class Cal:\n",
    "    def __init__(self,l,b,h):\n",
    "        self.l = l\n",
    "        self.b = b\n",
    "        self.h = h\n",
    "    \n",
    "    def area(self):\n",
    "        a = self.l*self.b\n",
    "        print(\"Your area is = \", a)\n",
    "    def volume(self):\n",
    "        v = self.l*self.b*self.h \n",
    "        print(\"Your volume is = \", v)\n",
    "obj = Cal(l,b,h)\n",
    "obj.area()\n",
    "obj.volume()\n"
   ]
  },
  {
   "cell_type": "code",
   "execution_count": null,
   "id": "583fca47",
   "metadata": {},
   "outputs": [],
   "source": []
  }
 ],
 "metadata": {
  "kernelspec": {
   "display_name": "Python 3",
   "language": "python",
   "name": "python3"
  },
  "language_info": {
   "codemirror_mode": {
    "name": "ipython",
    "version": 3
   },
   "file_extension": ".py",
   "mimetype": "text/x-python",
   "name": "python",
   "nbconvert_exporter": "python",
   "pygments_lexer": "ipython3",
   "version": "3.8.8"
  }
 },
 "nbformat": 4,
 "nbformat_minor": 5
}

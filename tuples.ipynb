{
 "cells": [
  {
   "cell_type": "code",
   "execution_count": null,
   "id": "a37913f1",
   "metadata": {},
   "outputs": [],
   "source": [
    "#tuples"
   ]
  },
  {
   "cell_type": "code",
   "execution_count": null,
   "id": "aa196044",
   "metadata": {},
   "outputs": [],
   "source": [
    "#Tuple\n",
    "#-Indexed\n",
    "#-order\n",
    "#-multiple values\n",
    "#-immutable"
   ]
  },
  {
   "cell_type": "code",
   "execution_count": 1,
   "id": "78b30a15",
   "metadata": {},
   "outputs": [
    {
     "name": "stdout",
     "output_type": "stream",
     "text": [
      "(1, 2, 3, 4, 5)\n",
      "<class 'tuple'>\n"
     ]
    }
   ],
   "source": [
    "a = (1,2,3,4,5)\n",
    "b = ('apple','ball','call','doll')\n",
    "print(a)\n",
    "print(type(b))\n"
   ]
  },
  {
   "cell_type": "code",
   "execution_count": 2,
   "id": "fcc05104",
   "metadata": {},
   "outputs": [
    {
     "name": "stdout",
     "output_type": "stream",
     "text": [
      "apple\n"
     ]
    }
   ],
   "source": [
    "print(b[0])"
   ]
  },
  {
   "cell_type": "code",
   "execution_count": 3,
   "id": "c8041381",
   "metadata": {},
   "outputs": [
    {
     "name": "stdout",
     "output_type": "stream",
     "text": [
      "5\n"
     ]
    }
   ],
   "source": [
    "print(a[4])"
   ]
  },
  {
   "cell_type": "code",
   "execution_count": 5,
   "id": "79943698",
   "metadata": {},
   "outputs": [
    {
     "name": "stdout",
     "output_type": "stream",
     "text": [
      "(1, 2, 3, 4, 5, 'apple', 'ball', 'call', 'doll')\n",
      "<class 'tuple'>\n"
     ]
    }
   ],
   "source": [
    "a = (1,2,3,4,5)\n",
    "b = ('apple','ball','call','doll')\n",
    "c = a + b\n",
    "print(c)\n",
    "print(type(c))"
   ]
  },
  {
   "cell_type": "code",
   "execution_count": 7,
   "id": "26fd11db",
   "metadata": {},
   "outputs": [
    {
     "name": "stdout",
     "output_type": "stream",
     "text": [
      "('apple', 'ball')\n"
     ]
    }
   ],
   "source": [
    "a = tuple()\n",
    "a = ()\n",
    "a = a + (\"apple\",)\n",
    "a = a + (\"ball\",)\n",
    "print(a)"
   ]
  },
  {
   "cell_type": "code",
   "execution_count": 12,
   "id": "6486b945",
   "metadata": {},
   "outputs": [
    {
     "name": "stdout",
     "output_type": "stream",
     "text": [
      "Enter any number = 1\n",
      "Enter X = 10\n",
      "(10,)\n"
     ]
    }
   ],
   "source": [
    "t = ()\n",
    "n = int(input(\"Enter any number = \"))\n",
    "for i in range(n):\n",
    "    x = int(input('Enter X = '))\n",
    "    t = t + (x,)\n",
    "print(t)"
   ]
  },
  {
   "cell_type": "code",
   "execution_count": null,
   "id": "0519dae5",
   "metadata": {},
   "outputs": [],
   "source": [
    "#no append\n",
    "#no extend\n",
    "#no insert\n",
    "#no del pop\n",
    "#no update\n",
    "#no sort"
   ]
  },
  {
   "cell_type": "code",
   "execution_count": 15,
   "id": "b59ad70d",
   "metadata": {},
   "outputs": [
    {
     "data": {
      "text/plain": [
       "('ball', 'call', 'doll')"
      ]
     },
     "execution_count": 15,
     "metadata": {},
     "output_type": "execute_result"
    }
   ],
   "source": [
    "#first change tuple to list by\n",
    "b = ('apple','ball','call','doll')\n",
    "a = list(b)\n",
    "del a[0]\n",
    "a\n",
    "b = tuple(a)\n",
    "b"
   ]
  },
  {
   "cell_type": "code",
   "execution_count": 16,
   "id": "28b95a5a",
   "metadata": {},
   "outputs": [
    {
     "name": "stdout",
     "output_type": "stream",
     "text": [
      "('apple', 'ball', 'call', 'doll', 'apple', 'ball', 'call', 'doll')\n"
     ]
    }
   ],
   "source": [
    "b = ('apple','ball','call','doll')\n",
    "print(b*2)"
   ]
  },
  {
   "cell_type": "code",
   "execution_count": 18,
   "id": "420797c8",
   "metadata": {},
   "outputs": [
    {
     "data": {
      "text/plain": [
       "((1, 2, 3), (3, 4, 5), (6, 4, 5))"
      ]
     },
     "execution_count": 18,
     "metadata": {},
     "output_type": "execute_result"
    }
   ],
   "source": [
    "#tuple inside tuple\n",
    "a = ((1,2,3),(3,4,5),(6,4,5))\n",
    "a"
   ]
  },
  {
   "cell_type": "code",
   "execution_count": 19,
   "id": "23fec072",
   "metadata": {},
   "outputs": [
    {
     "name": "stdout",
     "output_type": "stream",
     "text": [
      "Enter the value of n = 1\n",
      "Enter the value = jasmin\n",
      "Enter the value of n = 22\n",
      "Enter the value = kathmandu\n",
      "(('kathmandu', 22, 'kathmandu'),)\n"
     ]
    }
   ],
   "source": [
    "t = ()\n",
    "n = int(input(\"Enter the value of n = \"))\n",
    "for i in range(n):\n",
    "    name = input(\"Enter the name = \")\n",
    "    age = int(input(\"Enter the age = \"))\n",
    "    address = name = input(\"Enter the address = \")\n",
    "    x = (name,age,address)\n",
    "    t = t + (x,)\n",
    "print(t)\n",
    "    "
   ]
  },
  {
   "cell_type": "code",
   "execution_count": 25,
   "id": "caa90209",
   "metadata": {},
   "outputs": [
    {
     "data": {
      "text/plain": [
       "[[1, 2, 3], [3, 4, 5], [6, 4, 5]]"
      ]
     },
     "execution_count": 25,
     "metadata": {},
     "output_type": "execute_result"
    }
   ],
   "source": [
    "b = []\n",
    "a = ((1,2,3),(3,4,5),(6,4,5))\n",
    "for i in a:\n",
    "    b.append(list(i))\n",
    "    \n",
    "b"
   ]
  },
  {
   "cell_type": "code",
   "execution_count": 27,
   "id": "472fc4ea",
   "metadata": {},
   "outputs": [
    {
     "data": {
      "text/plain": [
       "((1, 2, 3), (3, 4, 5), (6, 4, 5))"
      ]
     },
     "execution_count": 27,
     "metadata": {},
     "output_type": "execute_result"
    }
   ],
   "source": [
    "b = ()\n",
    "a = [[1,2,3],[3,4,5],[6,4,5]]\n",
    "for i in a:\n",
    "    b = b+(tuple(i),)\n",
    "b\n",
    "    "
   ]
  },
  {
   "cell_type": "code",
   "execution_count": null,
   "id": "39228520",
   "metadata": {},
   "outputs": [],
   "source": []
  }
 ],
 "metadata": {
  "kernelspec": {
   "display_name": "Python 3",
   "language": "python",
   "name": "python3"
  },
  "language_info": {
   "codemirror_mode": {
    "name": "ipython",
    "version": 3
   },
   "file_extension": ".py",
   "mimetype": "text/x-python",
   "name": "python",
   "nbconvert_exporter": "python",
   "pygments_lexer": "ipython3",
   "version": "3.8.8"
  }
 },
 "nbformat": 4,
 "nbformat_minor": 5
}

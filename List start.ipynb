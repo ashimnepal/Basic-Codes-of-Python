{
 "cells": [
  {
   "cell_type": "code",
   "execution_count": 2,
   "id": "818ced57",
   "metadata": {},
   "outputs": [],
   "source": [
    "#Python Collection\n",
    "#list\n",
    "#tuple\n",
    "#dictionary\n",
    "#set"
   ]
  },
  {
   "cell_type": "code",
   "execution_count": 3,
   "id": "c06e9051",
   "metadata": {},
   "outputs": [],
   "source": [
    "#list\n",
    "#Index\n",
    "#Order\n",
    "#multiple values\n",
    "#mutable"
   ]
  },
  {
   "cell_type": "code",
   "execution_count": 5,
   "id": "abf005cd",
   "metadata": {},
   "outputs": [],
   "source": [
    "a = [\"apple\", \"ball\", \"cat\", \"doll\"]\n",
    "b = [1,2,3,4,5]\n",
    "c = []"
   ]
  },
  {
   "cell_type": "code",
   "execution_count": 7,
   "id": "c277491e",
   "metadata": {},
   "outputs": [
    {
     "name": "stdout",
     "output_type": "stream",
     "text": [
      "['apple', 'ball', 'cat', 'doll'] [1, 2, 3, 4, 5] []\n",
      "<class 'list'>\n",
      "<class 'list'>\n",
      "<class 'list'>\n"
     ]
    }
   ],
   "source": [
    "print(a,b,c)\n",
    "print(type(a))\n",
    "print(type(b))\n",
    "print(type(c))"
   ]
  },
  {
   "cell_type": "code",
   "execution_count": 12,
   "id": "43effcfe",
   "metadata": {},
   "outputs": [
    {
     "name": "stdout",
     "output_type": "stream",
     "text": [
      "['apple', 'ball', 'cat']\n"
     ]
    }
   ],
   "source": [
    "a = [\"apple\", \"ball\", \"cat\", \"doll\", \"Fish\"]\n",
    "print(a[:3])"
   ]
  },
  {
   "cell_type": "code",
   "execution_count": 13,
   "id": "47883c85",
   "metadata": {},
   "outputs": [
    {
     "name": "stdout",
     "output_type": "stream",
     "text": [
      "['apple', 'ball', 'cat', 'doll']\n"
     ]
    }
   ],
   "source": [
    "a = [\"apple\", \"ball\", \"cat\", \"doll\", \"Fish\"]\n",
    "print(a[:-1])"
   ]
  },
  {
   "cell_type": "code",
   "execution_count": 17,
   "id": "e846fb18",
   "metadata": {},
   "outputs": [
    {
     "name": "stdout",
     "output_type": "stream",
     "text": [
      "[1, 2]\n"
     ]
    }
   ],
   "source": [
    "a = [1,2,3,4,5,6,7,8,9,0]\n",
    "print(a[0:2:1])"
   ]
  },
  {
   "cell_type": "code",
   "execution_count": 22,
   "id": "bbf8cd39",
   "metadata": {},
   "outputs": [
    {
     "name": "stdout",
     "output_type": "stream",
     "text": [
      "['H', 'e', 'l', 'l', 'o', ' ', 'W', 'o', 'r', 'l', 'd']\n"
     ]
    }
   ],
   "source": [
    "a = \"Hello World\"\n",
    "print(list(a))"
   ]
  },
  {
   "cell_type": "code",
   "execution_count": 19,
   "id": "326da2c0",
   "metadata": {},
   "outputs": [
    {
     "name": "stdout",
     "output_type": "stream",
     "text": [
      "['apple', 'ball', 'cat', 'doll', 'Fish']\n"
     ]
    }
   ],
   "source": [
    "a = [\"apple\", \"ball\"]\n",
    "b = [\"cat\", \"doll\", \"Fish\"]\n",
    "c = a + b\n",
    "print(c)"
   ]
  },
  {
   "cell_type": "code",
   "execution_count": 21,
   "id": "9916c3d3",
   "metadata": {},
   "outputs": [
    {
     "name": "stdout",
     "output_type": "stream",
     "text": [
      "['apple', 'ball', 'apple', 'ball']\n"
     ]
    }
   ],
   "source": [
    "a = [\"apple\", \"ball\"]\n",
    "b = [\"cat\", \"doll\", \"Fish\"]\n",
    "c = a * 2\n",
    "print(c)"
   ]
  },
  {
   "cell_type": "code",
   "execution_count": 27,
   "id": "d13e36bb",
   "metadata": {},
   "outputs": [
    {
     "name": "stdout",
     "output_type": "stream",
     "text": [
      "apple\n"
     ]
    }
   ],
   "source": [
    "#Mutable\n",
    "a = [\"apple\", \"ball\", \"cat\", \"doll\", \"Fish\"]\n",
    "print(a[0])"
   ]
  },
  {
   "cell_type": "code",
   "execution_count": 28,
   "id": "82da5b49",
   "metadata": {},
   "outputs": [
    {
     "name": "stdout",
     "output_type": "stream",
     "text": [
      "Ant\n"
     ]
    }
   ],
   "source": [
    "#Mutable\n",
    "a = [\"apple\", \"ball\", \"cat\", \"doll\", \"Fish\"]\n",
    "a[0] = \"Ant\"\n",
    "print(a[0])"
   ]
  },
  {
   "cell_type": "code",
   "execution_count": 31,
   "id": "7e3c1159",
   "metadata": {},
   "outputs": [
    {
     "name": "stdout",
     "output_type": "stream",
     "text": [
      "['Apple', 'Ball', 'Cat']\n"
     ]
    }
   ],
   "source": [
    "#append() #insert() #Extend()\n",
    "\n",
    "#append\n",
    "a = []\n",
    "a.append(\"Apple\")\n",
    "a.append(\"Ball\")\n",
    "a.append(\"Cat\")\n",
    "print(a)\n"
   ]
  },
  {
   "cell_type": "code",
   "execution_count": 35,
   "id": "d1f4ec7d",
   "metadata": {},
   "outputs": [
    {
     "name": "stdout",
     "output_type": "stream",
     "text": [
      "['apple', 'bat', 'ball', 'cat', 'doll', 'Fish']\n"
     ]
    }
   ],
   "source": [
    "#insert\n",
    "a = [\"apple\", \"ball\", \"cat\", \"doll\", \"Fish\"]\n",
    "a.insert(1,\"bat\")\n",
    "print(a)\n"
   ]
  },
  {
   "cell_type": "code",
   "execution_count": 38,
   "id": "1e6ddb89",
   "metadata": {},
   "outputs": [
    {
     "name": "stdout",
     "output_type": "stream",
     "text": [
      "['apple', 'ball', 'cat', 'doll', 'Fish', 2, 3, 4, 5, 6, 7, 8, 9, 0]\n",
      "[2, 3, 4, 5, 6, 7, 8, 9, 0, 'apple', 'ball', 'cat', 'doll', 'Fish', 2, 3, 4, 5, 6, 7, 8, 9, 0]\n"
     ]
    }
   ],
   "source": [
    "#extend\n",
    "a = [\"apple\", \"ball\", \"cat\", \"doll\", \"Fish\"]\n",
    "b = [2,3,4,5,6,7,8,9,0]\n",
    "a.extend(b)\n",
    "b.extend(a)\n",
    "print(a)\n",
    "print(b)"
   ]
  },
  {
   "cell_type": "code",
   "execution_count": 41,
   "id": "c4c027c5",
   "metadata": {},
   "outputs": [
    {
     "name": "stdout",
     "output_type": "stream",
     "text": [
      "['apple', 'ball', 2, 3, 4, 5, 6, 7, 8, 9, 0, 'apple', 'ball']\n"
     ]
    }
   ],
   "source": [
    "a = [\"apple\", \"ball\", \"cat\", \"doll\", \"Fish\"]\n",
    "b = [2,3,4,5,6,7,8,9,0]\n",
    "c = a[0:2] +b +a[:2]\n",
    "print(c)"
   ]
  },
  {
   "cell_type": "code",
   "execution_count": 43,
   "id": "24e6d6ee",
   "metadata": {},
   "outputs": [
    {
     "name": "stdout",
     "output_type": "stream",
     "text": [
      "Enter any number =2\n",
      "Enter any number =3\n",
      "Enter any number =23233\n",
      "[3, 23233]\n"
     ]
    }
   ],
   "source": [
    "l = []\n",
    "n = int(input(\"Enter any number =\"))\n",
    "for i in range(n):\n",
    "    x = int(input(\"Enter any number =\"))\n",
    "    l.append(x)\n",
    "    \n",
    "print(l)\n",
    "    "
   ]
  },
  {
   "cell_type": "code",
   "execution_count": 62,
   "id": "f16e0213",
   "metadata": {},
   "outputs": [
    {
     "name": "stdout",
     "output_type": "stream",
     "text": [
      "Enter max value ashim\n",
      "Enter min value ashim\n"
     ]
    },
    {
     "ename": "TypeError",
     "evalue": "unsupported operand type(s) for +: 'int' and 'str'",
     "output_type": "error",
     "traceback": [
      "\u001b[1;31m---------------------------------------------------------------------------\u001b[0m",
      "\u001b[1;31mTypeError\u001b[0m                                 Traceback (most recent call last)",
      "\u001b[1;32m<ipython-input-62-0d25b74b0ec0>\u001b[0m in \u001b[0;36m<module>\u001b[1;34m\u001b[0m\n\u001b[0;32m      1\u001b[0m \u001b[0mprint\u001b[0m\u001b[1;33m(\u001b[0m\u001b[1;34m\"Enter max value\"\u001b[0m\u001b[1;33m,\u001b[0m\u001b[0mmax\u001b[0m\u001b[1;33m(\u001b[0m\u001b[0ml\u001b[0m\u001b[1;33m)\u001b[0m\u001b[1;33m)\u001b[0m\u001b[1;33m\u001b[0m\u001b[1;33m\u001b[0m\u001b[0m\n\u001b[0;32m      2\u001b[0m \u001b[0mprint\u001b[0m\u001b[1;33m(\u001b[0m\u001b[1;34m\"Enter min value\"\u001b[0m\u001b[1;33m,\u001b[0m\u001b[0mmin\u001b[0m\u001b[1;33m(\u001b[0m\u001b[0ml\u001b[0m\u001b[1;33m)\u001b[0m\u001b[1;33m)\u001b[0m\u001b[1;33m\u001b[0m\u001b[1;33m\u001b[0m\u001b[0m\n\u001b[1;32m----> 3\u001b[1;33m \u001b[0mprint\u001b[0m\u001b[1;33m(\u001b[0m\u001b[1;34m\"Enter sum = \"\u001b[0m\u001b[1;33m,\u001b[0m\u001b[0msum\u001b[0m\u001b[1;33m(\u001b[0m\u001b[0ml\u001b[0m\u001b[1;33m)\u001b[0m\u001b[1;33m)\u001b[0m\u001b[1;33m\u001b[0m\u001b[1;33m\u001b[0m\u001b[0m\n\u001b[0m\u001b[0;32m      4\u001b[0m \u001b[0ml\u001b[0m\u001b[1;33m.\u001b[0m\u001b[0msort\u001b[0m\u001b[1;33m\u001b[0m\u001b[1;33m\u001b[0m\u001b[0m\n\u001b[0;32m      5\u001b[0m \u001b[0mprint\u001b[0m\u001b[1;33m(\u001b[0m\u001b[0ml\u001b[0m\u001b[1;33m)\u001b[0m\u001b[1;33m\u001b[0m\u001b[1;33m\u001b[0m\u001b[0m\n",
      "\u001b[1;31mTypeError\u001b[0m: unsupported operand type(s) for +: 'int' and 'str'"
     ]
    }
   ],
   "source": [
    "print(\"Enter max value\",max(l))\n",
    "print(\"Enter min value\",min(l))\n",
    "print(\"Enter sum = \",sum(l))\n",
    "l.sort\n",
    "print(l)\n",
    "l.reverse()"
   ]
  },
  {
   "cell_type": "code",
   "execution_count": 59,
   "id": "0a5cc6e4",
   "metadata": {},
   "outputs": [
    {
     "name": "stdout",
     "output_type": "stream",
     "text": [
      "Enter any string =ashim\n",
      "['ashim']\n",
      "None\n"
     ]
    }
   ],
   "source": [
    "l = []\n",
    "n = input(\"Enter any string =\")\n",
    "l.append(n)\n",
    "print(l)\n",
    "print (l.reverse())\n"
   ]
  },
  {
   "cell_type": "code",
   "execution_count": 64,
   "id": "bc35b936",
   "metadata": {},
   "outputs": [
    {
     "name": "stdout",
     "output_type": "stream",
     "text": [
      "apple\n",
      "ball\n",
      "cat\n",
      "doll\n",
      "Fish\n"
     ]
    }
   ],
   "source": [
    "a = [\"apple\", \"ball\", \"cat\", \"doll\", \"Fish\"]\n",
    "for i in a:\n",
    "    print(i)"
   ]
  },
  {
   "cell_type": "code",
   "execution_count": 66,
   "id": "0d8539b8",
   "metadata": {},
   "outputs": [
    {
     "name": "stdout",
     "output_type": "stream",
     "text": [
      "['ball', 'cat', 'doll', 'Fish']\n"
     ]
    }
   ],
   "source": [
    "a = [\"apple\", \"ball\", \"cat\", \"doll\", \"Fish\"]\n",
    "b = []\n",
    "for i in a:\n",
    "    if i != \"apple\":\n",
    "        b.append(i)\n",
    "\n",
    "print(b)\n",
    "    "
   ]
  },
  {
   "cell_type": "code",
   "execution_count": 67,
   "id": "d98a4932",
   "metadata": {},
   "outputs": [
    {
     "name": "stdout",
     "output_type": "stream",
     "text": [
      "Yes 2\n"
     ]
    }
   ],
   "source": [
    "a = [\"apple\", \"ball\", \"cat\", \"doll\", \"Fish\", \"apple\"]\n",
    "if \"apple\" in a:\n",
    "    print(\"Yes\", a.count(\"apple\"))\n",
    "else:\n",
    "    print(\"No\")\n",
    "    "
   ]
  },
  {
   "cell_type": "code",
   "execution_count": 72,
   "id": "a429b6b3",
   "metadata": {},
   "outputs": [
    {
     "name": "stdout",
     "output_type": "stream",
     "text": [
      "['ball', 'cat', 'doll', 'Fish', 'apple']\n"
     ]
    }
   ],
   "source": [
    "#del #pop #remove\n",
    "\n",
    "a = [\"apple\", \"ball\", \"cat\", \"doll\", \"Fish\", \"apple\"]\n",
    "\n",
    "#del\n",
    "del a[0]\n",
    "print(a)"
   ]
  },
  {
   "cell_type": "code",
   "execution_count": 73,
   "id": "67751e0e",
   "metadata": {},
   "outputs": [
    {
     "name": "stdout",
     "output_type": "stream",
     "text": [
      "['apple', 'cat', 'doll', 'Fish', 'apple']\n",
      "ball\n"
     ]
    }
   ],
   "source": [
    "#pop #first in last out\n",
    "a = [\"apple\", \"ball\", \"cat\", \"doll\", \"Fish\", \"apple\"]\n",
    "b = a.pop(1)\n",
    "print(a)\n",
    "print(b)\n"
   ]
  },
  {
   "cell_type": "code",
   "execution_count": 76,
   "id": "348ae6f0",
   "metadata": {},
   "outputs": [
    {
     "data": {
      "text/plain": [
       "5"
      ]
     },
     "execution_count": 76,
     "metadata": {},
     "output_type": "execute_result"
    }
   ],
   "source": [
    "#index\n",
    "a = [\"apple\", \"ball\", \"cat\", \"doll\", \"Fish\", \"zebra\"]\n",
    "a.index(\"zebra\")"
   ]
  },
  {
   "cell_type": "code",
   "execution_count": 78,
   "id": "e3d2d281",
   "metadata": {},
   "outputs": [
    {
     "data": {
      "text/plain": [
       "['apple', 'ball', 'cat', 'doll', 'Fish']"
      ]
     },
     "execution_count": 78,
     "metadata": {},
     "output_type": "execute_result"
    }
   ],
   "source": [
    "#remove\n",
    "a = [\"apple\", \"ball\", \"cat\", \"doll\", \"Fish\", \"zebra\"]\n",
    "a.remove(\"zebra\")\n",
    "a"
   ]
  },
  {
   "cell_type": "code",
   "execution_count": null,
   "id": "93e89264",
   "metadata": {},
   "outputs": [],
   "source": [
    "#wap to detect index of multiple value\n",
    "#wap to remove duplicate value"
   ]
  },
  {
   "cell_type": "code",
   "execution_count": null,
   "id": "0ce72712",
   "metadata": {},
   "outputs": [],
   "source": [
    "#wap to remove duplicate value\n",
    "l = []\n",
    "a = [\"apple\", \"ball\", \"cat\", \"doll\", \"Fish\", \"zebra\", \"apple\"]\n",
    "b = \n",
    "for i in range a:\n",
    "    if "
   ]
  }
 ],
 "metadata": {
  "kernelspec": {
   "display_name": "Python 3",
   "language": "python",
   "name": "python3"
  },
  "language_info": {
   "codemirror_mode": {
    "name": "ipython",
    "version": 3
   },
   "file_extension": ".py",
   "mimetype": "text/x-python",
   "name": "python",
   "nbconvert_exporter": "python",
   "pygments_lexer": "ipython3",
   "version": "3.8.8"
  }
 },
 "nbformat": 4,
 "nbformat_minor": 5
}

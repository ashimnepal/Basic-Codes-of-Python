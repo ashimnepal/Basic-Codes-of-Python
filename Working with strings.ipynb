{
 "cells": [
  {
   "cell_type": "code",
   "execution_count": 1,
   "id": "4427882a",
   "metadata": {},
   "outputs": [
    {
     "name": "stdout",
     "output_type": "stream",
     "text": [
      "Enter any string =apple\n",
      "Enter any string =ball\n",
      "appleball\n"
     ]
    }
   ],
   "source": [
    "a = input(\"Enter any string =\")\n",
    "b = input(\"Enter any string =\")\n",
    "c = a+b\n",
    "print(c)"
   ]
  },
  {
   "cell_type": "code",
   "execution_count": 2,
   "id": "2b45f5bf",
   "metadata": {},
   "outputs": [
    {
     "name": "stdout",
     "output_type": "stream",
     "text": [
      "Enter any string\n",
      "Enter any string\n",
      "\n"
     ]
    }
   ],
   "source": [
    "a = \"Enter any string\\n\"\n",
    "print(a*2)"
   ]
  },
  {
   "cell_type": "code",
   "execution_count": 3,
   "id": "2b0317ae",
   "metadata": {},
   "outputs": [
    {
     "name": "stdout",
     "output_type": "stream",
     "text": [
      "Hello World I am Ram, my age is 32, i live in Kathmandu\n"
     ]
    }
   ],
   "source": [
    "#string Formatting\n",
    "name = \"Ram\"\n",
    "age = 32\n",
    "add = \"Kathmandu\"\n",
    "info = f\"Hello World I am {name}, my age is {age}, i live in {add}\"\n",
    "print(info)"
   ]
  },
  {
   "cell_type": "code",
   "execution_count": 12,
   "id": "77b311b5",
   "metadata": {},
   "outputs": [
    {
     "name": "stdout",
     "output_type": "stream",
     "text": [
      "Enter any number = 1\n",
      "Enter product name = Shampoo\n",
      "Enter price = 50\n",
      "Enter quantity = 4\n",
      "Shampoo 50 4 200\n",
      "\n"
     ]
    }
   ],
   "source": [
    "bill = \"\"\n",
    "n = int(input(\"Enter any number = \"))\n",
    "for i in range(n):\n",
    "    product = input(\"Enter product name = \")\n",
    "    price = int(input(\"Enter price = \"))\n",
    "    quantity = int(input(\"Enter quantity = \"))\n",
    "    total = price*quantity\n",
    "    info = f\"{product} {price} {quantity} {total}\\n\"\n",
    "    bill = bill +info\n",
    "    print(bill)\n",
    "    \n",
    "    \n",
    "    "
   ]
  },
  {
   "cell_type": "code",
   "execution_count": 18,
   "id": "5c720dba",
   "metadata": {},
   "outputs": [
    {
     "name": "stdout",
     "output_type": "stream",
     "text": [
      "Hello\n"
     ]
    }
   ],
   "source": [
    "#slicing\n",
    "a = \"Hello world i am python\"\n",
    "print(a[0:5])\n"
   ]
  },
  {
   "cell_type": "code",
   "execution_count": 17,
   "id": "645aaaab",
   "metadata": {},
   "outputs": [
    {
     "name": "stdout",
     "output_type": "stream",
     "text": [
      " world i am python\n"
     ]
    }
   ],
   "source": [
    "#slicing\n",
    "a = \"Hello world i am python\"\n",
    "print(a[5:])\n"
   ]
  },
  {
   "cell_type": "code",
   "execution_count": 21,
   "id": "47dfdd70",
   "metadata": {},
   "outputs": [
    {
     "name": "stdout",
     "output_type": "stream",
     "text": [
      "Hello\n",
      " world i am python\n"
     ]
    }
   ],
   "source": [
    "#slicing\n",
    "a = \"Hello world i am python\"\n",
    "b = a[:5]\n",
    "c = a[5:]\n",
    "print(b)\n",
    "print(c)"
   ]
  },
  {
   "cell_type": "code",
   "execution_count": 26,
   "id": "8c420a56",
   "metadata": {},
   "outputs": [
    {
     "name": "stdout",
     "output_type": "stream",
     "text": [
      "ello\n",
      " world i am python\n"
     ]
    }
   ],
   "source": [
    "#slicing\n",
    "a = \"Hello world i am python\"\n",
    "b = a[1:5]\n",
    "c = a[5:]\n",
    "print(b)\n",
    "print(c)"
   ]
  },
  {
   "cell_type": "code",
   "execution_count": 29,
   "id": "6c3b786e",
   "metadata": {},
   "outputs": [
    {
     "name": "stdout",
     "output_type": "stream",
     "text": [
      "Hello world i am p\n",
      "ython\n"
     ]
    }
   ],
   "source": [
    "#slicing\n",
    "a = \"Hello world i am python\"\n",
    "b = a[:-5]\n",
    "c = a[-5:]\n",
    "print(b)\n",
    "print(c)"
   ]
  },
  {
   "cell_type": "code",
   "execution_count": 30,
   "id": "c155f000",
   "metadata": {},
   "outputs": [
    {
     "name": "stdout",
     "output_type": "stream",
     "text": [
      "Hlowr\n"
     ]
    }
   ],
   "source": [
    "#slicing\n",
    "a = \"Hello world i am python\"\n",
    "print(a[0:10:2])"
   ]
  },
  {
   "cell_type": "code",
   "execution_count": 31,
   "id": "d59de6c7",
   "metadata": {},
   "outputs": [
    {
     "name": "stdout",
     "output_type": "stream",
     "text": [
      "nohtyp ma i dlrow olleH\n"
     ]
    }
   ],
   "source": [
    "#slicing\n",
    "a = \"Hello world i am python\"\n",
    "print(a[::-1])"
   ]
  },
  {
   "cell_type": "code",
   "execution_count": 1,
   "id": "45bcaa24",
   "metadata": {},
   "outputs": [
    {
     "name": "stdout",
     "output_type": "stream",
     "text": [
      "Enter any keyword = ram\n",
      "Yes\n",
      "1\n"
     ]
    }
   ],
   "source": [
    "#searching\n",
    "a = \"Ram Hari Sita Gita Fatha Goru Sabb Sabbb\".lower()\n",
    "search = input(\"Enter any keyword = \").lower()\n",
    "if search in a:\n",
    "    print(\"Yes\")\n",
    "    print(a.count(search))\n",
    "else:\n",
    "    print(\"No\")\n",
    "    "
   ]
  },
  {
   "cell_type": "code",
   "execution_count": 37,
   "id": "23502a35",
   "metadata": {},
   "outputs": [
    {
     "name": "stdout",
     "output_type": "stream",
     "text": [
      "RAM HARI SITA GITA FATHA GORU SABB SABBB\n",
      "ram hari sita gita fatha goru sabb sabbb\n"
     ]
    }
   ],
   "source": [
    "a = \"Ram Hari Sita Gita Fatha Goru Sabb Sabbb\"\n",
    "print(a.upper())\n",
    "print(a.lower())"
   ]
  },
  {
   "cell_type": "code",
   "execution_count": 4,
   "id": "8d5568cd",
   "metadata": {},
   "outputs": [
    {
     "name": "stdout",
     "output_type": "stream",
     "text": [
      "Ram Hari Sita Gita Fatha Goru Sabb Sabbb\n",
      "ram Hari Sita Gita Fatha Goru Sabb Sabbb\n",
      "Ram Hari Sita Gita Fatha Goru Sabb Sabbb\n"
     ]
    }
   ],
   "source": [
    "a = \"Ram Hari Sita Gita Fatha Goru Sabb Sabbb\"\n",
    "b = a.replace(\"Ram\", \"ram\")\n",
    "print(a)\n",
    "print(b)\n",
    "print(a)"
   ]
  },
  {
   "cell_type": "code",
   "execution_count": 6,
   "id": "63c355c8",
   "metadata": {},
   "outputs": [
    {
     "data": {
      "text/plain": [
       "['Ram', 'Hari', 'Sita', 'Gita', 'Fatha', 'Goru', 'Sabb', 'Sabbb']"
      ]
     },
     "execution_count": 6,
     "metadata": {},
     "output_type": "execute_result"
    }
   ],
   "source": [
    "#split handa array ma change garauna sakincha\n",
    "a = \"Ram Hari Sita Gita Fatha Goru Sabb Sabbb\"\n",
    "a.split()\n"
   ]
  },
  {
   "cell_type": "code",
   "execution_count": null,
   "id": "6c2275b2",
   "metadata": {},
   "outputs": [],
   "source": []
  }
 ],
 "metadata": {
  "kernelspec": {
   "display_name": "Python 3",
   "language": "python",
   "name": "python3"
  },
  "language_info": {
   "codemirror_mode": {
    "name": "ipython",
    "version": 3
   },
   "file_extension": ".py",
   "mimetype": "text/x-python",
   "name": "python",
   "nbconvert_exporter": "python",
   "pygments_lexer": "ipython3",
   "version": "3.8.8"
  }
 },
 "nbformat": 4,
 "nbformat_minor": 5
}

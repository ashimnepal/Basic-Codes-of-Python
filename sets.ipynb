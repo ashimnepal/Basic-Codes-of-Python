{
 "cells": [
  {
   "cell_type": "code",
   "execution_count": null,
   "id": "49c482e2",
   "metadata": {},
   "outputs": [],
   "source": [
    "#Sets\n",
    "# no indexing\n",
    "# miltple values\n",
    "# no duplication\n",
    "# mutable"
   ]
  },
  {
   "cell_type": "code",
   "execution_count": 2,
   "id": "bb6f35ee",
   "metadata": {},
   "outputs": [
    {
     "name": "stdout",
     "output_type": "stream",
     "text": [
      "<class 'set'>\n",
      "<class 'set'>\n"
     ]
    }
   ],
   "source": [
    "a = {1,2,3,4,5,6}\n",
    "b = {\"Apple\",\"Ball,Cat\"}\n",
    "print(type(a))\n",
    "print(type(b))"
   ]
  },
  {
   "cell_type": "code",
   "execution_count": 4,
   "id": "38817d85",
   "metadata": {},
   "outputs": [
    {
     "name": "stdout",
     "output_type": "stream",
     "text": [
      "{1, 2, 3, 'Ball', 'Apple', 'Cat'}\n"
     ]
    }
   ],
   "source": [
    "b = {1,\"Apple\",2,\"Ball\",3,\"Cat\",1,2,3,4}\n",
    "print(b)"
   ]
  },
  {
   "cell_type": "code",
   "execution_count": 5,
   "id": "2cfbd34d",
   "metadata": {},
   "outputs": [
    {
     "data": {
      "text/plain": [
       "[1, 2, 3, 'Ball', 'Apple', 4, 'Cat']"
      ]
     },
     "execution_count": 5,
     "metadata": {},
     "output_type": "execute_result"
    }
   ],
   "source": [
    "b = {1,\"Apple\",2,\"Ball\",3,\"Cat\",1,2,3,4}\n",
    "b = list(set(b))\n",
    "b"
   ]
  },
  {
   "cell_type": "code",
   "execution_count": 6,
   "id": "9cd17176",
   "metadata": {},
   "outputs": [
    {
     "data": {
      "text/plain": [
       "{'Blue', 'Cat'}"
      ]
     },
     "execution_count": 6,
     "metadata": {},
     "output_type": "execute_result"
    }
   ],
   "source": [
    "#adding in the set\n",
    "a = set()\n",
    "a.add(\"Blue\")\n",
    "a.add(\"Cat\")\n",
    "a"
   ]
  },
  {
   "cell_type": "code",
   "execution_count": 7,
   "id": "f274e191",
   "metadata": {},
   "outputs": [
    {
     "data": {
      "text/plain": [
       "{1, 2, 3, 'Ball', 'Cat'}"
      ]
     },
     "execution_count": 7,
     "metadata": {},
     "output_type": "execute_result"
    }
   ],
   "source": [
    "a = {1, 2, 3, 'Ball', 'Apple', 'Cat'}\n",
    "a.remove(\"Apple\")\n",
    "a"
   ]
  },
  {
   "cell_type": "code",
   "execution_count": 8,
   "id": "b5ab512c",
   "metadata": {},
   "outputs": [
    {
     "data": {
      "text/plain": [
       "{0, 1, 2, 3, 7, 8, 9, 'Apple', 'Ball', 'Cat'}"
      ]
     },
     "execution_count": 8,
     "metadata": {},
     "output_type": "execute_result"
    }
   ],
   "source": [
    "a = {1, 2, 3, 'Ball', 'Apple', 'Cat'}\n",
    "a.update({7,8,9,0})\n",
    "a"
   ]
  },
  {
   "cell_type": "code",
   "execution_count": 12,
   "id": "e2719aeb",
   "metadata": {},
   "outputs": [
    {
     "data": {
      "text/plain": [
       "{'Ram'}"
      ]
     },
     "execution_count": 12,
     "metadata": {},
     "output_type": "execute_result"
    }
   ],
   "source": [
    "apple = {\"Ram\",\"Shyam\",\"Hari\",\"Fari\",\"Pari\"}\n",
    "ms = {\"Ram\",\"Shyame\",\"Harei\",\"Farei\",\"Parei\"}\n",
    "#union\n",
    "#union\n",
    "apple.union(ms)\n",
    "apple.intersection(ms)"
   ]
  },
  {
   "cell_type": "code",
   "execution_count": 14,
   "id": "73c364bc",
   "metadata": {},
   "outputs": [
    {
     "data": {
      "text/plain": [
       "{'Fari', 'Hari', 'Pari', 'Shyam'}"
      ]
     },
     "execution_count": 14,
     "metadata": {},
     "output_type": "execute_result"
    }
   ],
   "source": [
    "apple.difference(ms)"
   ]
  },
  {
   "cell_type": "code",
   "execution_count": 15,
   "id": "4d09f5d1",
   "metadata": {},
   "outputs": [
    {
     "data": {
      "text/plain": [
       "{'Farei', 'Harei', 'Parei', 'Shyame'}"
      ]
     },
     "execution_count": 15,
     "metadata": {},
     "output_type": "execute_result"
    }
   ],
   "source": [
    "ms.difference(apple)"
   ]
  },
  {
   "cell_type": "code",
   "execution_count": null,
   "id": "c06faa65",
   "metadata": {},
   "outputs": [],
   "source": []
  }
 ],
 "metadata": {
  "kernelspec": {
   "display_name": "Python 3",
   "language": "python",
   "name": "python3"
  },
  "language_info": {
   "codemirror_mode": {
    "name": "ipython",
    "version": 3
   },
   "file_extension": ".py",
   "mimetype": "text/x-python",
   "name": "python",
   "nbconvert_exporter": "python",
   "pygments_lexer": "ipython3",
   "version": "3.8.8"
  }
 },
 "nbformat": 4,
 "nbformat_minor": 5
}

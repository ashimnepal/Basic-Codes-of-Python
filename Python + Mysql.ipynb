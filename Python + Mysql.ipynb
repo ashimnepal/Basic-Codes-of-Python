{
 "cells": [
  {
   "cell_type": "code",
   "execution_count": 1,
   "id": "689ce28f",
   "metadata": {},
   "outputs": [
    {
     "name": "stdout",
     "output_type": "stream",
     "text": [
      "Collecting mysql-connector\n",
      "  Downloading mysql-connector-2.2.9.tar.gz (11.9 MB)\n",
      "Building wheels for collected packages: mysql-connector\n",
      "  Building wheel for mysql-connector (setup.py): started\n",
      "  Building wheel for mysql-connector (setup.py): finished with status 'done'\n",
      "  Created wheel for mysql-connector: filename=mysql_connector-2.2.9-cp38-cp38-win_amd64.whl size=247943 sha256=5ba571dcd95b39e6e1c0b7839f0808635a0700212de3138ccc07464b515b98a4\n",
      "  Stored in directory: c:\\users\\ashim\\appdata\\local\\pip\\cache\\wheels\\57\\e4\\98\\5feafb5c393dd2540e44b064a6f95832990d543e5b4f53ea8f\n",
      "Successfully built mysql-connector\n",
      "Installing collected packages: mysql-connector\n",
      "Successfully installed mysql-connector-2.2.9\n"
     ]
    }
   ],
   "source": [
    "!pip install mysql-connector"
   ]
  },
  {
   "cell_type": "code",
   "execution_count": 2,
   "id": "b9384b76",
   "metadata": {},
   "outputs": [],
   "source": [
    "import mysql.connector\n",
    "database = mysql.connector.connect(\n",
    "host = \"localhost\",\n",
    "user = \"root\",\n",
    "password = \"\",\n",
    "database = \"Pythonclass\"\n",
    ")\n",
    "db = database.cursor()"
   ]
  },
  {
   "cell_type": "code",
   "execution_count": 8,
   "id": "4380d5d4",
   "metadata": {},
   "outputs": [
    {
     "data": {
      "text/plain": [
       "[(0, '{name}', 0, '{address}'),\n",
       " (1, 'Ashia', 21, 'Kathmandu'),\n",
       " (2, 'Ashiana', 21, 'Kathmandu'),\n",
       " (3, 'Adarsh', 17, 'Kathmandu'),\n",
       " (4, 'Ashiana', 21, 'Lalitpur'),\n",
       " (5, 'Ashiana', 22, 'Lalitpur')]"
      ]
     },
     "execution_count": 8,
     "metadata": {},
     "output_type": "execute_result"
    }
   ],
   "source": [
    "#selecting\n",
    "db.execute(\"SELECT * FROM student\")\n",
    "result = db.fetchall()\n",
    "result"
   ]
  },
  {
   "cell_type": "code",
   "execution_count": 9,
   "id": "71c790b6",
   "metadata": {},
   "outputs": [
    {
     "name": "stdout",
     "output_type": "stream",
     "text": [
      "(0, '{name}', 0, '{address}')\n",
      "(1, 'Ashia', 21, 'Kathmandu')\n",
      "(2, 'Ashiana', 21, 'Kathmandu')\n",
      "(3, 'Adarsh', 17, 'Kathmandu')\n",
      "(4, 'Ashiana', 21, 'Lalitpur')\n",
      "(5, 'Ashiana', 22, 'Lalitpur')\n"
     ]
    }
   ],
   "source": [
    "for x in result:\n",
    "    print(x)"
   ]
  },
  {
   "cell_type": "code",
   "execution_count": 11,
   "id": "18459851",
   "metadata": {},
   "outputs": [
    {
     "name": "stdout",
     "output_type": "stream",
     "text": [
      "1 record inserted.\n"
     ]
    }
   ],
   "source": [
    "db = database.cursor()\n",
    "\n",
    "sql = \"INSERT INTO student (SN, Name, Age, Address) VALUES ('5', 'Ashiana', '22', 'Lalitpur')\"\n",
    "\n",
    "db.execute(sql)\n",
    "\n",
    "database.commit()\n",
    "\n",
    "print(db.rowcount, \"record inserted.\")"
   ]
  },
  {
   "cell_type": "code",
   "execution_count": 4,
   "id": "944e8083",
   "metadata": {},
   "outputs": [
    {
     "name": "stdout",
     "output_type": "stream",
     "text": [
      "(4, 'Ashiana', 'Lalitpur')\n",
      "(5, 'Ashiana', 'Lalitpur')\n"
     ]
    }
   ],
   "source": [
    "db = database.cursor()\n",
    "sql = \"SELECT SN,Name,Address FROM student WHERE address ='Lalitpur'\"\n",
    "db.execute(sql)\n",
    "result = db.fetchall()\n",
    "for x in result:\n",
    "    print(x)"
   ]
  },
  {
   "cell_type": "code",
   "execution_count": 14,
   "id": "833c806c",
   "metadata": {},
   "outputs": [
    {
     "name": "stdout",
     "output_type": "stream",
     "text": [
      "1 record(s) deleted\n"
     ]
    }
   ],
   "source": [
    "db = database.cursor()\n",
    "sql = \"DELETE FROM student WHERE SN = 0 \"\n",
    "db.execute(sql)\n",
    "database.commit()\n",
    "print(db.rowcount, \"record(s) deleted\")"
   ]
  },
  {
   "cell_type": "code",
   "execution_count": 18,
   "id": "7f1ad035",
   "metadata": {},
   "outputs": [
    {
     "name": "stdout",
     "output_type": "stream",
     "text": [
      "1 record(s) affected\n"
     ]
    }
   ],
   "source": [
    "db = database.cursor()\n",
    "\n",
    "sql = \"UPDATE student SET Name = 'Joker' WHERE SN = 6\"\n",
    "\n",
    "db.execute(sql)\n",
    "\n",
    "database.commit()\n",
    "\n",
    "print(db.rowcount, \"record(s) affected\")"
   ]
  },
  {
   "cell_type": "code",
   "execution_count": 38,
   "id": "b58e6916",
   "metadata": {},
   "outputs": [
    {
     "name": "stdout",
     "output_type": "stream",
     "text": [
      "(4, 'Ashia', 21, 'Kathmandu')\n",
      "(5, 'Ashiana', 21, 'Kathmandu')\n"
     ]
    }
   ],
   "source": [
    "db.execute(\"SELECT * FROM student\")\n",
    "result = db.fetchall()\n",
    "for x in result:\n",
    "    print(x)"
   ]
  },
  {
   "cell_type": "code",
   "execution_count": 41,
   "id": "f7cf9d1f",
   "metadata": {},
   "outputs": [
    {
     "name": "stdout",
     "output_type": "stream",
     "text": [
      "1 record(s) affected\n"
     ]
    }
   ],
   "source": [
    "mycursor = database.cursor()\n",
    "\n",
    "sql = \"UPDATE student SET SN = '2' WHERE Name = 'Ashiana'\"\n",
    "\n",
    "db.execute(sql)\n",
    "\n",
    "database.commit()\n",
    "\n",
    "print(db.rowcount, \"record(s) affected\")"
   ]
  },
  {
   "cell_type": "code",
   "execution_count": 8,
   "id": "bd76adc1",
   "metadata": {},
   "outputs": [
    {
     "data": {
      "text/plain": [
       "[(1, 'Ashia', 21, 'Kathmandu'),\n",
       " (2, 'Ashiana', 21, 'Kathmandu'),\n",
       " (3, 'Adarsh', 17, 'Kathmandu'),\n",
       " (4, 'Ayushka', 18, 'Bhaktapur'),\n",
       " (5, 'Anuska', 18, 'Bhaktapur')]"
      ]
     },
     "execution_count": 8,
     "metadata": {},
     "output_type": "execute_result"
    }
   ],
   "source": [
    "db.execute(\"SELECT * FROM student\")\n",
    "result = db.fetchall()\n",
    "result"
   ]
  },
  {
   "cell_type": "code",
   "execution_count": 15,
   "id": "86e38463",
   "metadata": {},
   "outputs": [
    {
     "name": "stdout",
     "output_type": "stream",
     "text": [
      "('Ashia', 'Kathmandu')\n",
      "('Ashiana', 'Kathmandu')\n",
      "('Adarsh', 'Kathmandu')\n"
     ]
    }
   ],
   "source": [
    "db = database.cursor()\n",
    "sql = \"Select Name,Address From student Where Address = 'Kathmandu'\"\n",
    "db.execute(sql)\n",
    "result = db.fetchall()\n",
    "for x in result:\n",
    "    print(x)"
   ]
  },
  {
   "cell_type": "code",
   "execution_count": 16,
   "id": "3cbac71b",
   "metadata": {},
   "outputs": [
    {
     "name": "stdout",
     "output_type": "stream",
     "text": [
      "Enter the serial number = 6\n",
      "Enter the name = joker\n",
      "Enter the age = 25\n",
      "Enter the address = Bhaktapur\n",
      "1 record inserted.\n"
     ]
    }
   ],
   "source": [
    "sn = int(input(\"Enter the serial number = \"))\n",
    "name = input(\"Enter the name = \")\n",
    "age = int(input(\"Enter the age = \"))\n",
    "address = input(\"Enter the address = \")\n",
    "sql = f\"INSERT INTO student (SN, Name, Age, Address) VALUES ({sn},'{name}',{age},'{address}')\"\n",
    "db.execute(sql)\n",
    "database.commit()\n",
    "print(db.rowcount, \"record inserted.\")\n"
   ]
  },
  {
   "cell_type": "code",
   "execution_count": 19,
   "id": "b14b3b32",
   "metadata": {},
   "outputs": [
    {
     "data": {
      "text/plain": [
       "[(1, 'Ashia', 21, 'Kathmandu'),\n",
       " (2, 'Ashiana', 21, 'Kathmandu'),\n",
       " (3, 'Adarsh', 17, 'Kathmandu'),\n",
       " (4, 'Ashiana', 21, 'Lalitpur'),\n",
       " (5, 'Ashiana', 22, 'Lalitpur'),\n",
       " (6, 'Joker', 25, 'Bhaktapur')]"
      ]
     },
     "execution_count": 19,
     "metadata": {},
     "output_type": "execute_result"
    }
   ],
   "source": [
    "db.execute(\"Select * from student\")\n",
    "resu = db.fetchall()\n",
    "resu"
   ]
  },
  {
   "cell_type": "code",
   "execution_count": null,
   "id": "26558a11",
   "metadata": {},
   "outputs": [],
   "source": []
  }
 ],
 "metadata": {
  "kernelspec": {
   "display_name": "Python 3",
   "language": "python",
   "name": "python3"
  },
  "language_info": {
   "codemirror_mode": {
    "name": "ipython",
    "version": 3
   },
   "file_extension": ".py",
   "mimetype": "text/x-python",
   "name": "python",
   "nbconvert_exporter": "python",
   "pygments_lexer": "ipython3",
   "version": "3.8.8"
  }
 },
 "nbformat": 4,
 "nbformat_minor": 5
}
